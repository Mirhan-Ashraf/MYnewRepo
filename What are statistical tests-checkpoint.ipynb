{
 "cells": [
  {
   "cell_type": "markdown",
   "id": "baa94f83",
   "metadata": {},
   "source": [
    "# Statistical Tests Definition:"
   ]
  },
  {
   "cell_type": "markdown",
   "id": "494c8db5",
   "metadata": {},
   "source": [
    "#### A statistical test provides a mechanism for making quantitative decisions about a process or processes. The intent is to determine whether there is enough evidence to \"reject\" a conjecture or hypothesis about the process. The conjecture is called the null hypothesis.\n"
   ]
  },
  {
   "cell_type": "markdown",
   "id": "df88a68b",
   "metadata": {},
   "source": [
    "# Types of statistical tests:"
   ]
  },
  {
   "cell_type": "markdown",
   "id": "9acd2e11",
   "metadata": {},
   "source": [
    "#### Correlational: these tests look for an association between variables\n",
    "#### Pearson Correlation:Tests for the strength of the association between two continuous variables\n",
    "#### Spearman Correlation:Tests for the strength of the association between two ordinal variables (does not rely on the assumption of normally distributed data)\n",
    "#### Chi-Square:Tests for the strength of the association between two categorical variables\n",
    "#### Paired T-Test:Tests for the difference between two variables from the same population (e.g., a pre- and posttest score)\n",
    "#### ANOVA:Tests for the difference between group means after any other variance in the outcome variable is accounted for (e.g., controlling for income, or age)\n",
    "#### Regression: these tests assess if change in one variable predicts change in another variable\n",
    "#### Multiple Regression: Tests how changes in the combination of two or more predictor variables predict the level of change in the outcome variable\n",
    "#### Sign Test: Tests if two related variables are different; ignores the magnitude of change—only takes into account direction\n",
    "#### Wilcoxon Sign-Rank Test: Tests for the difference between two related variables; takes into account the magnitude and direction of difference\n",
    "\n",
    "\n",
    "\n",
    "\n",
    "\n"
   ]
  },
  {
   "cell_type": "code",
   "execution_count": null,
   "id": "a6cc350d",
   "metadata": {},
   "outputs": [],
   "source": []
  }
 ],
 "metadata": {
  "kernelspec": {
   "display_name": "Python 3 (ipykernel)",
   "language": "python",
   "name": "python3"
  },
  "language_info": {
   "codemirror_mode": {
    "name": "ipython",
    "version": 3
   },
   "file_extension": ".py",
   "mimetype": "text/x-python",
   "name": "python",
   "nbconvert_exporter": "python",
   "pygments_lexer": "ipython3",
   "version": "3.9.12"
  }
 },
 "nbformat": 4,
 "nbformat_minor": 5
}
