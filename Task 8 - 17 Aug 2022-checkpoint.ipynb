{
 "cells": [
  {
   "cell_type": "code",
   "execution_count": 16,
   "id": "ffdac84a",
   "metadata": {
    "ExecuteTime": {
     "end_time": "2022-08-21T20:45:10.951508Z",
     "start_time": "2022-08-21T20:45:10.935935Z"
    },
    "scrolled": true
   },
   "outputs": [
    {
     "name": "stdout",
     "output_type": "stream",
     "text": [
      "Name:  Mirhan Ashraf\n",
      "ID:  1551310427\n",
      "Branch:  Information Technology and Computing\n"
     ]
    }
   ],
   "source": [
    "#task1 and 2\n",
    "class Student:    #super class\n",
    "    _name = None  #protected data member attributes\n",
    "    _id = None\n",
    "    _branch = None\n",
    "    \n",
    "    def __init__(self, name, id,branch):    #constructor\n",
    "        self._name = name\n",
    "        self._id = id\n",
    "        self._branch = branch\n",
    "    \n",
    "    def _displayIdAndBranch(self):   # protected member function\n",
    "        print(\"ID: \",self._id)       # accessing protected data members\n",
    "        print(\"Branch: \", self._branch)\n",
    "\n",
    "class University(Student):   # derived class\n",
    "    def __init__(self,name,id,branch):   # constructor\n",
    "        Student.__init__(self,name,id,branch)\n",
    "    def displayDetails(self):     # public member function\n",
    "        print(\"Name: \",self._name)  # accessing protected data members of super class\n",
    "        self._displayIdAndBranch()  # accessing protected member functions of super class\n",
    "# creating objects of the derived class\n",
    "obj = University(\"Mirhan Ashraf\", 1551310427, \"Information Technology and Computing\")\n",
    "obj.displayDetails()  # calling public member functions of the class\n",
    "        \n",
    "    "
   ]
  },
  {
   "cell_type": "code",
   "execution_count": 19,
   "id": "5426eb79",
   "metadata": {
    "ExecuteTime": {
     "end_time": "2022-08-21T20:55:39.595468Z",
     "start_time": "2022-08-21T20:55:39.588313Z"
    }
   },
   "outputs": [
    {
     "name": "stdout",
     "output_type": "stream",
     "text": [
      "This enables specific resources of the parent class to be inherited by the child class. Python's convention to make an instance variable protected is to add a prefix _ (single underscore) to it. This effectively prevents it from being accessed unless it is from within a sub-class\n"
     ]
    }
   ],
   "source": [
    "# Task1 : Why use protected visibility in python?\n",
    "print(\"This enables specific resources of the parent class to be inherited by the child class. Python's convention to make an instance variable protected is to add a prefix _ (single underscore) to it. This effectively prevents it from being accessed unless it is from within a sub-class\")"
   ]
  },
  {
   "cell_type": "code",
   "execution_count": 25,
   "id": "cf806c8a",
   "metadata": {
    "ExecuteTime": {
     "end_time": "2022-08-21T21:25:56.245768Z",
     "start_time": "2022-08-21T21:25:56.238404Z"
    }
   },
   "outputs": [],
   "source": [
    "class Student:\n",
    "    _universitylName = \"Arab Open uni\" # protected class attribute\n",
    "    \n",
    "    def __init__(self, name, age):\n",
    "        self._name = name  # protected instance attribute\n",
    "        self._age = age # protected instance attribute"
   ]
  },
  {
   "cell_type": "code",
   "execution_count": 26,
   "id": "88ce78de",
   "metadata": {
    "ExecuteTime": {
     "end_time": "2022-08-21T21:26:21.809608Z",
     "start_time": "2022-08-21T21:26:21.801607Z"
    }
   },
   "outputs": [],
   "source": [
    "std = Student(\"mirhan\", 24)\n"
   ]
  },
  {
   "cell_type": "code",
   "execution_count": 27,
   "id": "2002bc88",
   "metadata": {
    "ExecuteTime": {
     "end_time": "2022-08-21T21:26:31.901942Z",
     "start_time": "2022-08-21T21:26:31.878668Z"
    }
   },
   "outputs": [
    {
     "data": {
      "text/plain": [
       "'mirhan'"
      ]
     },
     "execution_count": 27,
     "metadata": {},
     "output_type": "execute_result"
    }
   ],
   "source": [
    "std._name\n"
   ]
  },
  {
   "cell_type": "code",
   "execution_count": 28,
   "id": "f4dd7f40",
   "metadata": {
    "ExecuteTime": {
     "end_time": "2022-08-21T21:26:54.960634Z",
     "start_time": "2022-08-21T21:26:54.952634Z"
    }
   },
   "outputs": [],
   "source": [
    "std._name = 'Rowan'\n"
   ]
  },
  {
   "cell_type": "code",
   "execution_count": 29,
   "id": "3228a839",
   "metadata": {
    "ExecuteTime": {
     "end_time": "2022-08-21T21:27:05.051429Z",
     "start_time": "2022-08-21T21:27:05.043425Z"
    }
   },
   "outputs": [
    {
     "data": {
      "text/plain": [
       "'Rowan'"
      ]
     },
     "execution_count": 29,
     "metadata": {},
     "output_type": "execute_result"
    }
   ],
   "source": [
    "std._name\n"
   ]
  },
  {
   "cell_type": "code",
   "execution_count": null,
   "id": "6ddd267b",
   "metadata": {},
   "outputs": [],
   "source": []
  }
 ],
 "metadata": {
  "kernelspec": {
   "display_name": "Python 3 (ipykernel)",
   "language": "python",
   "name": "python3"
  },
  "language_info": {
   "codemirror_mode": {
    "name": "ipython",
    "version": 3
   },
   "file_extension": ".py",
   "mimetype": "text/x-python",
   "name": "python",
   "nbconvert_exporter": "python",
   "pygments_lexer": "ipython3",
   "version": "3.9.12"
  }
 },
 "nbformat": 4,
 "nbformat_minor": 5
}
