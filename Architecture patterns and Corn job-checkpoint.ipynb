{
 "cells": [
  {
   "cell_type": "markdown",
   "id": "b849c642",
   "metadata": {},
   "source": [
    "# Architecture patterns\n"
   ]
  },
  {
   "cell_type": "markdown",
   "id": "4381347f",
   "metadata": {},
   "source": [
    "### The architectural pattern captures the design structures of various systems and elements of software so that they can be reused. During the process of writing software code, developers encounter similar problems multiple times within a project, within the company, and within their careers. One way to address this is to create design patterns that give engineers a reusable way to solve these problems, allowing software engineers to achieve the same output structurally for a given project. "
   ]
  },
  {
   "cell_type": "markdown",
   "id": "eab8f9a5",
   "metadata": {},
   "source": [
    "# Types of software architchre :"
   ]
  },
  {
   "cell_type": "markdown",
   "id": "72dee477",
   "metadata": {},
   "source": [
    "#### 1. Layered Pattern\n",
    "#### 2. Microservices Pattern\n",
    "#### 3.Microkernal Pattern\n",
    "#### 4. Event-Driven Pattern\n",
    "#### 5. Client - Server Pattern\n",
    "#### 6. Broker"
   ]
  },
  {
   "cell_type": "markdown",
   "id": "532a7fe1",
   "metadata": {},
   "source": [
    "# Layered Pattern\n",
    "\n",
    "###### As the name suggests, components(code) in this pattern are separated into \n",
    "###### layers of subtasks and they are arranged one above another. \n",
    "###### Each layer has unique tasks to do and all the layers are independent of one \n",
    "###### another. Since each layer is independent, one can modify the code inside a \n",
    "###### layer without affecting others. \n",
    "###### It is the most commonly used pattern for designing the majority of software. \n",
    "###### This layer is also known as ‘N-tier architecture’. Basically, this pattern has 4 \n",
    "###### layers. "
   ]
  },
  {
   "cell_type": "markdown",
   "id": "4021bdc0",
   "metadata": {},
   "source": [
    "#### 1. Presentation layer (The user interface layer where we see and enter data \n",
    "#### into an application.)\n",
    "#### 2. Business layer (this layer is responsible for executing business logic as per \n",
    "#### the request.)\n",
    "#### 3. Application layer (this layer acts as a medium for communication between \n",
    "#### the ‘presentation layer’ and ‘data layer’.\n",
    "#### 4. Data layer (this layer has a database for managing data.)\n",
    "### Ideal for: \n",
    "#### E-commerce web applications development like Amazon. "
   ]
  },
  {
   "cell_type": "markdown",
   "id": "2641d640",
   "metadata": {},
   "source": [
    "#  Microservices Pattern\n",
    "\n",
    "#### The collection of small services that are combined to form the actual application \n",
    "#### is the concept of microservices pattern. Instead of building a bigger application, \n",
    "#### small programs are built for every service (function) of an application \n",
    "#### independently. And those small programs are bundled together to be a full\u0002fledged application. \n",
    "#### So adding new features and modifying existing microservices without affecting \n",
    "#### other microservices are no longer a challenge when an application is built in a \n",
    "#### microservices pattern. \n",
    "#### Modules in the application of microservices patterns are loosely coupled. So \n",
    "#### they are easily understandable, modifiable and scalable.\n",
    "\n",
    "### Netflix this is Example for microservices pattern ,  is one of the most popular examples of software built-in \n",
    "### microservices architecture."
   ]
  },
  {
   "cell_type": "markdown",
   "id": "9433ed1d",
   "metadata": {},
   "source": [
    "# Microkernel Pattern\n",
    "\n",
    "### Two Major Component:\n",
    "#### 1. The core system handles the fundamental and minimal operations of the application.\n",
    "#### 2. The plug-in modules handle the extended functionalities (like extra features) and customized processing.\n",
    "\n"
   ]
  },
  {
   "cell_type": "markdown",
   "id": "0f029f21",
   "metadata": {},
   "source": [
    "#  Event-Driven Pattern\n",
    "\n",
    "#### Event-Driven Architecture is an agile approach in which services (operations) of the software are triggered by events.\n",
    "#### When a user takes action in the application built using the EDA approach, a \n",
    "#### state change happens and a reaction is generated that is called an event.\n",
    "#### A new user fills the signup form and clicks the signup button on Facebook \n",
    "#### and then a FB account is created for him, which is an event.\n",
    "### Ideal for:\n",
    "\n",
    "#### Building websites with JavaScript and e-commerce websites in general. "
   ]
  },
  {
   "cell_type": "markdown",
   "id": "b2b00c5d",
   "metadata": {},
   "source": [
    "#  Client-Server Pattern\n",
    "#### The client-server pattern has two major entities. They are a server and multiple clients. \n",
    "#### Here the server has resources(data, files or services) and a client requests the \n",
    "#### server for a particular resource. Then the server processes the request and responds back accordingly.\n",
    "\n",
    "### Usage:\n",
    "\n",
    "#### Emails, File Sharing applications, World Wide Web (WWW),etc....\n"
   ]
  },
  {
   "cell_type": "markdown",
   "id": "c1038b45",
   "metadata": {},
   "source": [
    "# Broker\n",
    "\n",
    "## Style is a middleware architecture used in distributed computing to coordinate and enable the communication between registered servers and clients\n",
    "\n",
    "### Usage\n",
    "#### The backend are data distributed out across the network\n",
    "#### Wide area network in this case can be viewed as a set of networks that are not directly connected at all time\n",
    "#### Build a City Information System (CIS) designed to run on a wide area network.\n",
    "#### Users can access the information from the WWW which is the front end software supported for on-line retrieval of information.\n",
    "\n",
    "\n",
    "\n",
    "\n"
   ]
  },
  {
   "cell_type": "markdown",
   "id": "8374c2da",
   "metadata": {},
   "source": [
    "# Corn jobs:\n",
    "#### Is a command that is executed in the background by an \n",
    "#### operating system automatically. They are used for specific tasks like \n",
    "#### maintaining databases, cleaning unwanted files which can clog up your \n",
    "#### computer, or even triggering emails to be sent out at certain times\n",
    "\n",
    "#### this is also linux command used for scheduling tasks \n",
    "#### it running or excuite in  __Shell Script__"
   ]
  },
  {
   "cell_type": "code",
   "execution_count": null,
   "id": "fc9862d6",
   "metadata": {},
   "outputs": [],
   "source": []
  }
 ],
 "metadata": {
  "kernelspec": {
   "display_name": "Python 3 (ipykernel)",
   "language": "python",
   "name": "python3"
  },
  "language_info": {
   "codemirror_mode": {
    "name": "ipython",
    "version": 3
   },
   "file_extension": ".py",
   "mimetype": "text/x-python",
   "name": "python",
   "nbconvert_exporter": "python",
   "pygments_lexer": "ipython3",
   "version": "3.9.12"
  }
 },
 "nbformat": 4,
 "nbformat_minor": 5
}
