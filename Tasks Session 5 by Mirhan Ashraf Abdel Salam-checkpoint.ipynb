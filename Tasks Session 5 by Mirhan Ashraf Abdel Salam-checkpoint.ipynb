{
 "cells": [
  {
   "cell_type": "code",
   "execution_count": 1,
   "id": "d0b57b80",
   "metadata": {
    "ExecuteTime": {
     "end_time": "2022-08-12T07:59:07.833685Z",
     "start_time": "2022-08-12T07:59:07.794954Z"
    }
   },
   "outputs": [
    {
     "name": "stdout",
     "output_type": "stream",
     "text": [
      "Sorted Keys:  ['Age', 'Email', 'Name', 'Typefavfilms', 'phonenum']\n"
     ]
    },
    {
     "data": {
      "text/plain": [
       "['Age', 'Email', 'Name', 'Typefavfilms', 'phonenum']"
      ]
     },
     "execution_count": 1,
     "metadata": {},
     "output_type": "execute_result"
    }
   ],
   "source": [
    "# Task 1: sort dict by key:\n",
    "\n",
    "dict = {\"Name\" : \"Mirhan\", \"Age\" : 24,\"Email\":\"mirhan@gmail,com\",\"phonenum\":134658,\"Typefavfilms\":\"Comedy\"}\n",
    "\n",
    "m = sorted(dict.keys())\n",
    "print (\"Sorted Keys: \",m)\n",
    "\n",
    "# another way\n",
    "\n",
    "sorted(dict)"
   ]
  },
  {
   "cell_type": "code",
   "execution_count": 2,
   "id": "d236a31f",
   "metadata": {
    "ExecuteTime": {
     "end_time": "2022-08-12T07:59:12.199505Z",
     "start_time": "2022-08-12T07:59:12.190904Z"
    }
   },
   "outputs": [],
   "source": [
    "# task 2 :  in word file named : mirhan ashraf tasks 2 and 3"
   ]
  },
  {
   "cell_type": "code",
   "execution_count": 88,
   "id": "afbd21fd",
   "metadata": {
    "ExecuteTime": {
     "end_time": "2022-08-14T04:33:28.713139Z",
     "start_time": "2022-08-14T04:33:28.706422Z"
    }
   },
   "outputs": [],
   "source": [
    "# task 3: how does DFS and BFS work: in word file\n",
    "\n"
   ]
  },
  {
   "cell_type": "code",
   "execution_count": 49,
   "id": "66b47896",
   "metadata": {
    "ExecuteTime": {
     "end_time": "2022-08-14T00:33:12.119239Z",
     "start_time": "2022-08-14T00:33:12.104514Z"
    }
   },
   "outputs": [],
   "source": [
    "#task 4\n",
    "\n",
    "import mirhanLib\n"
   ]
  },
  {
   "cell_type": "code",
   "execution_count": 47,
   "id": "1ebfb774",
   "metadata": {
    "ExecuteTime": {
     "end_time": "2022-08-14T00:32:53.041900Z",
     "start_time": "2022-08-14T00:32:53.029021Z"
    }
   },
   "outputs": [
    {
     "name": "stdout",
     "output_type": "stream",
     "text": [
      "Mirhan Ashraf\n"
     ]
    }
   ],
   "source": [
    "mirhanLib.printname()"
   ]
  },
  {
   "cell_type": "code",
   "execution_count": 48,
   "id": "d2c1a02d",
   "metadata": {
    "ExecuteTime": {
     "end_time": "2022-08-14T00:33:03.612687Z",
     "start_time": "2022-08-14T00:33:03.597698Z"
    }
   },
   "outputs": [
    {
     "data": {
      "text/plain": [
       "54.25"
      ]
     },
     "execution_count": 48,
     "metadata": {},
     "output_type": "execute_result"
    }
   ],
   "source": [
    "mirhanLib.returnsum(5) # m+50 -(9*5)/z"
   ]
  },
  {
   "cell_type": "code",
   "execution_count": 63,
   "id": "aa30b745",
   "metadata": {
    "ExecuteTime": {
     "end_time": "2022-08-14T00:44:56.988190Z",
     "start_time": "2022-08-14T00:44:56.982468Z"
    }
   },
   "outputs": [
    {
     "data": {
      "text/plain": [
       "[100, 150, 200, 240, 90, 300]"
      ]
     },
     "execution_count": 63,
     "metadata": {},
     "output_type": "execute_result"
    }
   ],
   "source": [
    "mirhanLib.mylist"
   ]
  },
  {
   "cell_type": "code",
   "execution_count": 6,
   "id": "8566deb1",
   "metadata": {
    "ExecuteTime": {
     "end_time": "2022-08-14T22:55:39.974153Z",
     "start_time": "2022-08-14T22:54:59.101263Z"
    },
    "scrolled": true
   },
   "outputs": [
    {
     "name": "stdout",
     "output_type": "stream",
     "text": [
      "Please Enter Number To but in stack: 4\n",
      "Please Enter your number: 5\n",
      "Please Enter your number: 0\n",
      "Invalid Number!\n",
      "Please Enter your number: 5\n",
      "Please Enter your number: 7\n"
     ]
    },
    {
     "ename": "TypeError",
     "evalue": "'LifoQueue' object is not callable",
     "output_type": "error",
     "traceback": [
      "\u001b[1;31m---------------------------------------------------------------------------\u001b[0m",
      "\u001b[1;31mTypeError\u001b[0m                                 Traceback (most recent call last)",
      "Input \u001b[1;32mIn [6]\u001b[0m, in \u001b[0;36m<cell line: 15>\u001b[1;34m()\u001b[0m\n\u001b[0;32m     13\u001b[0m     \u001b[38;5;28;01mreturn\u001b[39;00m newstack()\n\u001b[0;32m     14\u001b[0m testing \u001b[38;5;241m=\u001b[39m stack()  \n\u001b[1;32m---> 15\u001b[0m testing \u001b[38;5;241m=\u001b[39m \u001b[43mstenter\u001b[49m\u001b[43m(\u001b[49m\u001b[43m)\u001b[49m\n\u001b[0;32m     16\u001b[0m \u001b[38;5;28mprint\u001b[39m(\u001b[38;5;124m\"\u001b[39m\u001b[38;5;124mThe size  stack is\u001b[39m\u001b[38;5;124m\"\u001b[39m,testing\u001b[38;5;241m.\u001b[39mqsize())\n",
      "Input \u001b[1;32mIn [6]\u001b[0m, in \u001b[0;36mstenter\u001b[1;34m()\u001b[0m\n\u001b[0;32m     11\u001b[0m     \u001b[38;5;28;01melse\u001b[39;00m:\n\u001b[0;32m     12\u001b[0m         newstack\u001b[38;5;241m.\u001b[39mput(m)\n\u001b[1;32m---> 13\u001b[0m \u001b[38;5;28;01mreturn\u001b[39;00m \u001b[43mnewstack\u001b[49m\u001b[43m(\u001b[49m\u001b[43m)\u001b[49m\n",
      "\u001b[1;31mTypeError\u001b[0m: 'LifoQueue' object is not callable"
     ]
    }
   ],
   "source": [
    "# task 5\n",
    "\n",
    "from queue import LifoQueue as stack\n",
    "def stenter ():\n",
    "    newstack = stack()\n",
    "    num = int(input(\"Please Enter Number To but in stack: \"))\n",
    "    for i in range(0, num):\n",
    "        m = int(input(\"Please Enter your number: \"))\n",
    "        if m == 0:\n",
    "            print(\"Invalid Number!\")\n",
    "        else:\n",
    "            newstack.put(m)\n",
    "    return newstack()\n",
    "testing = stack()  \n",
    "testing = stenter()\n",
    "print(\"The size  stack is\",testing.qsize())"
   ]
  },
  {
   "cell_type": "code",
   "execution_count": 11,
   "id": "3f0dbfbd",
   "metadata": {
    "ExecuteTime": {
     "end_time": "2022-08-14T23:02:47.223236Z",
     "start_time": "2022-08-14T23:02:47.184157Z"
    }
   },
   "outputs": [
    {
     "name": "stdout",
     "output_type": "stream",
     "text": [
      "unordered set is : {32, 7, 9, -15, 88, -2}\n"
     ]
    },
    {
     "ename": "ModuleNotFoundError",
     "evalue": "No module named 'multiset'",
     "output_type": "error",
     "traceback": [
      "\u001b[1;31m---------------------------------------------------------------------------\u001b[0m",
      "\u001b[1;31mModuleNotFoundError\u001b[0m                       Traceback (most recent call last)",
      "Input \u001b[1;32mIn [11]\u001b[0m, in \u001b[0;36m<cell line: 15>\u001b[1;34m()\u001b[0m\n\u001b[0;32m     12\u001b[0m \u001b[38;5;28mprint\u001b[39m(\u001b[38;5;124m\"\u001b[39m\u001b[38;5;124munordered set is :\u001b[39m\u001b[38;5;124m\"\u001b[39m,unorderdSet)\n\u001b[0;32m     14\u001b[0m \u001b[38;5;66;03m#multiset\u001b[39;00m\n\u001b[1;32m---> 15\u001b[0m \u001b[38;5;28;01mfrom\u001b[39;00m \u001b[38;5;21;01mmultiset\u001b[39;00m \u001b[38;5;28;01mimport\u001b[39;00m \u001b[38;5;241m*\u001b[39m\n\u001b[0;32m     16\u001b[0m mirhan\u001b[38;5;241m=\u001b[39m multiset()\n\u001b[0;32m     17\u001b[0m mirhan\u001b[38;5;241m.\u001b[39madd(\u001b[38;5;241m15\u001b[39m)\n",
      "\u001b[1;31mModuleNotFoundError\u001b[0m: No module named 'multiset'"
     ]
    }
   ],
   "source": [
    "# task 6\n",
    "\n",
    "unorderdSet=set()\n",
    "unorderdSet.add(9)\n",
    "unorderdSet.add(7)\n",
    "unorderdSet.add(88)\n",
    "unorderdSet.add(32) \n",
    "unorderdSet.add(88)    \n",
    "unorderdSet.add(-2)  \n",
    "unorderdSet.add(-15)    \n",
    "\n",
    "print(\"unordered set is :\",unorderdSet)\n",
    "\n",
    "#multiset\n",
    "from multiset import *\n",
    "mirhan= multiset()\n",
    "mirhan.add(15)\n",
    "mirhan.add(1)\n",
    "mirhan.add(1)\n",
    "print(\"multiset is :\",mirhan)"
   ]
  },
  {
   "cell_type": "code",
   "execution_count": null,
   "id": "8ab37eba",
   "metadata": {},
   "outputs": [],
   "source": []
  },
  {
   "cell_type": "code",
   "execution_count": null,
   "id": "eeaff2b3",
   "metadata": {},
   "outputs": [],
   "source": []
  }
 ],
 "metadata": {
  "kernelspec": {
   "display_name": "Python 3 (ipykernel)",
   "language": "python",
   "name": "python3"
  },
  "language_info": {
   "codemirror_mode": {
    "name": "ipython",
    "version": 3
   },
   "file_extension": ".py",
   "mimetype": "text/x-python",
   "name": "python",
   "nbconvert_exporter": "python",
   "pygments_lexer": "ipython3",
   "version": "3.9.12"
  }
 },
 "nbformat": 4,
 "nbformat_minor": 5
}
