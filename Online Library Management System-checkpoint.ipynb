{
 "cells": [
  {
   "cell_type": "code",
   "execution_count": 41,
   "id": "b0fc1641",
   "metadata": {
    "ExecuteTime": {
     "end_time": "2022-08-31T20:32:00.301171Z",
     "start_time": "2022-08-31T20:32:00.275815Z"
    }
   },
   "outputs": [],
   "source": [
    "class Library:\n",
    "    def __init__(self):\n",
    "        print(\"Welcome To Our E Library...\")\n",
    "        self.Name = input(\"Please Enter Your Name: \")\n",
    "        self.Password = int(input(\"Please Enter Your Password: \"))\n",
    "        self.ID = int(input(\"Please Enter Your ID: \"))\n",
    "        print(\"ID For You Is: \",self.ID)\n",
    "        self.ObtainableEBooks = [\"Code Complete\", \"Clean Code\", \"Refactoring\",\"Intoduction To Python\",\"The Pramatic Programmer\",\"Python Crash Programming\",\"Grokking Algorithms\", \"Coders at Work\", \"physics\", \"Eloquent JAVASCRIPT\"]\n",
    "        self.EBooksborrow = list()\n",
    "    \n",
    "    def Displaybook(self):\n",
    "        print(\"The Obtainable Ebooks are: \", self.ObtainableEBooks)\n",
    "    \n",
    "    def Lendbook(self):\n",
    "        yourpassword = int(input(\"Excuseme Enter Your Password: \"))\n",
    "        if yourpassword == self.Password:\n",
    "            Ebook1 = input(\"Can You Enter The Name Of Ebook That You Want Obtainable? \")\n",
    "            if Ebook1 in self.ObtainableEBooks:\n",
    "                self.EBooksborrow.append(Ebook1)\n",
    "                self.ObtainableEBooks.remove(Ebook1)\n",
    "                print(\"Now, You Have: \", Ebook1,\".\")\n",
    "            else:\n",
    "                print(\"Sorry, This Book is Not Currently Available\")\n",
    "                print(\"Please Try Again Later\")\n",
    "        else:\n",
    "            print(\"Wrong Password\")\n",
    "            \n",
    "    def Addbook(self):\n",
    "        yourpassword = int(input(\"Excuseme Enter Your Password: \"))\n",
    "        if yourpassword == self.Password:\n",
    "                Ebook2 = input(\"Can You Enter The Name Of Ebook That You Want Add? \")\n",
    "                if Ebook2 in self.ObtainableEBooks:\n",
    "                    self.ObtainableEBooks.append(Ebook2)\n",
    "                    print(\"Successful Added Your Book. \")\n",
    "                    print(\"Thanks For You Added\")\n",
    "                else:\n",
    "                    print(\"This Book Already Exists!\")\n",
    "        else:\n",
    "            print(\"Wrong Password\")\n",
    "                \n",
    "    def Returnbook(self):\n",
    "        yourpassword = int(input(\"Excuseme Enter Your Password: \"))\n",
    "        if yourpassword == self.Password:\n",
    "            Ebook3 = input(\"Can You Enter The Name Of Ebook That You Want Return? \")\n",
    "            if Ebook3 in self.EBooksborrow:\n",
    "                self.EBooksborrow.remove(Ebook3)\n",
    "                self.ObtainableEBooks.append(Ebook3)\n",
    "                print(\"Successful Returned. \")\n",
    "            else:\n",
    "                print(\"You Don't Have This EBook! \")\n",
    "        else:\n",
    "            print(\"Wrong Password\")\n",
    "    \n",
    "    def EBookBorrow(self):\n",
    "        print(\"You Have These EBooks:  \", self.EBooksborrow)\n",
    "                \n",
    "        \n",
    "        "
   ]
  },
  {
   "cell_type": "code",
   "execution_count": 42,
   "id": "a78839bf",
   "metadata": {
    "ExecuteTime": {
     "end_time": "2022-08-31T20:32:29.092562Z",
     "start_time": "2022-08-31T20:32:13.110650Z"
    }
   },
   "outputs": [
    {
     "name": "stdout",
     "output_type": "stream",
     "text": [
      "Welcome To Our E Library...\n",
      "Please Enter Your Name: Mirhan Ashraf\n",
      "Please Enter Your Password: 1234\n",
      "Please Enter Your ID: 12345\n",
      "ID For You Is:  12345\n"
     ]
    }
   ],
   "source": [
    "ebook = Library()"
   ]
  },
  {
   "cell_type": "code",
   "execution_count": 16,
   "id": "93bf9130",
   "metadata": {
    "ExecuteTime": {
     "end_time": "2022-08-31T20:11:25.021378Z",
     "start_time": "2022-08-31T20:11:25.004409Z"
    }
   },
   "outputs": [
    {
     "name": "stdout",
     "output_type": "stream",
     "text": [
      "The Obtainable Ebooks are:  ['Code Complete', 'Clean Code', 'Refactoring', 'Intoduction To Python', 'The Pramatic Programmer', 'Python Crash Programming', 'Grokking Algorithms', 'Coders at Work', 'physics', 'Eloquent JAVASCRIPT']\n"
     ]
    }
   ],
   "source": [
    "ebook.Displaybook()"
   ]
  },
  {
   "cell_type": "code",
   "execution_count": 17,
   "id": "092945e0",
   "metadata": {
    "ExecuteTime": {
     "end_time": "2022-08-31T20:12:27.717511Z",
     "start_time": "2022-08-31T20:11:54.023765Z"
    }
   },
   "outputs": [
    {
     "name": "stdout",
     "output_type": "stream",
     "text": [
      "Excuseme Enter Your Password: 1234\n",
      "Can You Enter The Name Of Ebook That You Want Obtainable? Coders at Work\n",
      "Now, You Have:  Coders at Work .\n"
     ]
    }
   ],
   "source": [
    "ebook.Lendbook()"
   ]
  },
  {
   "cell_type": "code",
   "execution_count": 19,
   "id": "69ff4204",
   "metadata": {
    "ExecuteTime": {
     "end_time": "2022-08-31T20:15:41.593212Z",
     "start_time": "2022-08-31T20:15:41.572270Z"
    }
   },
   "outputs": [
    {
     "name": "stdout",
     "output_type": "stream",
     "text": [
      "You Have These EBooks:   ['Coders at Work']\n"
     ]
    }
   ],
   "source": [
    "ebook.EBookBorrow()"
   ]
  },
  {
   "cell_type": "code",
   "execution_count": 34,
   "id": "c23e6a5c",
   "metadata": {
    "ExecuteTime": {
     "end_time": "2022-08-31T20:26:55.614137Z",
     "start_time": "2022-08-31T20:26:28.759962Z"
    }
   },
   "outputs": [
    {
     "name": "stdout",
     "output_type": "stream",
     "text": [
      "Excuseme Enter Your Password: 1234\n",
      "Can You Enter The Name Of Ebook That You Want Add? R Language \n",
      "This Book Already Exists!\n"
     ]
    }
   ],
   "source": [
    "ebook.Addbook()"
   ]
  },
  {
   "cell_type": "code",
   "execution_count": 30,
   "id": "8a36cfa3",
   "metadata": {
    "ExecuteTime": {
     "end_time": "2022-08-31T20:25:06.388331Z",
     "start_time": "2022-08-31T20:25:03.133750Z"
    }
   },
   "outputs": [
    {
     "name": "stdout",
     "output_type": "stream",
     "text": [
      "Excuseme Enter Your Password: 12345\n",
      "Wrong Password\n"
     ]
    }
   ],
   "source": [
    "ebook.Addbook()"
   ]
  },
  {
   "cell_type": "code",
   "execution_count": 35,
   "id": "84f9e430",
   "metadata": {
    "ExecuteTime": {
     "end_time": "2022-08-31T20:27:34.725940Z",
     "start_time": "2022-08-31T20:27:07.875932Z"
    }
   },
   "outputs": [
    {
     "name": "stdout",
     "output_type": "stream",
     "text": [
      "Excuseme Enter Your Password: 1234\n",
      "Can You Enter The Name Of Ebook That You Want Add? Code Complete\n",
      "Successful Added Your Book. \n",
      "Thanks For You Added\n"
     ]
    }
   ],
   "source": [
    "ebook.Addbook()"
   ]
  },
  {
   "cell_type": "code",
   "execution_count": 43,
   "id": "aad53a9a",
   "metadata": {
    "ExecuteTime": {
     "end_time": "2022-08-31T20:32:47.546632Z",
     "start_time": "2022-08-31T20:32:35.950189Z"
    }
   },
   "outputs": [
    {
     "name": "stdout",
     "output_type": "stream",
     "text": [
      "Excuseme Enter Your Password: 1234\n",
      "Can You Enter The Name Of Ebook That You Want Return? Clean Code\n",
      "You Don't Have This EBook! \n"
     ]
    }
   ],
   "source": [
    "ebook.Returnbook()"
   ]
  },
  {
   "cell_type": "code",
   "execution_count": null,
   "id": "31d8016f",
   "metadata": {
    "ExecuteTime": {
     "start_time": "2022-08-31T20:35:03.937Z"
    }
   },
   "outputs": [],
   "source": [
    "ebook.EBookBorrow()"
   ]
  },
  {
   "cell_type": "code",
   "execution_count": null,
   "id": "2ca11493",
   "metadata": {},
   "outputs": [],
   "source": []
  }
 ],
 "metadata": {
  "kernelspec": {
   "display_name": "Python 3 (ipykernel)",
   "language": "python",
   "name": "python3"
  },
  "language_info": {
   "codemirror_mode": {
    "name": "ipython",
    "version": 3
   },
   "file_extension": ".py",
   "mimetype": "text/x-python",
   "name": "python",
   "nbconvert_exporter": "python",
   "pygments_lexer": "ipython3",
   "version": "3.9.12"
  }
 },
 "nbformat": 4,
 "nbformat_minor": 5
}
