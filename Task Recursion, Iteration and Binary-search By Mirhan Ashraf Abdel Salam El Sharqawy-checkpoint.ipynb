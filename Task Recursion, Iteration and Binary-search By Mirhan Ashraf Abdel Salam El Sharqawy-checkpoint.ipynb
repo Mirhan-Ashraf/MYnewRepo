{
 "cells": [
  {
   "cell_type": "code",
   "execution_count": 5,
   "id": "39cec4c5",
   "metadata": {
    "ExecuteTime": {
     "end_time": "2022-08-10T06:54:31.313469Z",
     "start_time": "2022-08-10T06:54:31.283497Z"
    }
   },
   "outputs": [
    {
     "name": "stdout",
     "output_type": "stream",
     "text": [
      "Factorial of 7 By Using Iteration is: 5040\n",
      "Factorial of 7 By Using Recusion is: 5040\n"
     ]
    }
   ],
   "source": [
    "# Task 1 \n",
    "# Programe to find factorial of given num\n",
    "\n",
    "# Iterative Way\n",
    "\n",
    "def factorialiteration (num):\n",
    "    result = 1\n",
    "    \n",
    "    for i in range(2, num + 1):\n",
    "        result *= i\n",
    "    \n",
    "    return result\n",
    "\n",
    "# Recursion Way\n",
    "\n",
    "def factorialiteration (num):\n",
    "    if (num == 1):\n",
    "        return 1\n",
    "    return num * factorialiteration(num - 1)  #calling function \n",
    "\n",
    "number = 7\n",
    "print (\"Factorial of\" ,number,\"By Using Iteration is:\", factorialiteration(7))\n",
    "print (\"Factorial of\" ,number, \"By Using Recusion is:\", factorialiteration(7))"
   ]
  },
  {
   "cell_type": "code",
   "execution_count": 12,
   "id": "86164884",
   "metadata": {
    "ExecuteTime": {
     "end_time": "2022-08-10T07:09:02.119406Z",
     "start_time": "2022-08-10T07:09:02.098214Z"
    }
   },
   "outputs": [
    {
     "name": "stdout",
     "output_type": "stream",
     "text": [
      "The First at index 1\n"
     ]
    }
   ],
   "source": [
    "#Task 2: code binary search in python\n",
    "\n",
    "def binarySearch(array, x, low, high):\n",
    "\n",
    "    if high >= low:\n",
    "\n",
    "        mid = low + (high - low)//2\n",
    "\n",
    "        # If found at mid, then return it\n",
    "        if array[mid] == x:\n",
    "            return mid\n",
    "\n",
    "        # Search the left half\n",
    "        elif array[mid] > x:\n",
    "            return binarySearch(array, x, low, mid-1)\n",
    "\n",
    "        # Search the right half\n",
    "        else:\n",
    "            return binarySearch(array, x, mid + 1, high)\n",
    "\n",
    "    else:\n",
    "        return -1\n",
    "\n",
    "\n",
    "array = [3, 4, 5, 6, 7, 8, 9]\n",
    "x = 4\n",
    "\n",
    "result = binarySearch(array, x, 0, len(array)-1)\n",
    "\n",
    "if result != -1:\n",
    "    print(\"The First at index \" + str(result))\n",
    "else:\n",
    "    print(\"Not found\")"
   ]
  },
  {
   "cell_type": "code",
   "execution_count": null,
   "id": "3d9f4305",
   "metadata": {},
   "outputs": [],
   "source": []
  },
  {
   "cell_type": "code",
   "execution_count": null,
   "id": "9a20df75",
   "metadata": {},
   "outputs": [],
   "source": []
  }
 ],
 "metadata": {
  "kernelspec": {
   "display_name": "Python 3 (ipykernel)",
   "language": "python",
   "name": "python3"
  },
  "language_info": {
   "codemirror_mode": {
    "name": "ipython",
    "version": 3
   },
   "file_extension": ".py",
   "mimetype": "text/x-python",
   "name": "python",
   "nbconvert_exporter": "python",
   "pygments_lexer": "ipython3",
   "version": "3.9.12"
  }
 },
 "nbformat": 4,
 "nbformat_minor": 5
}
