{
 "cells": [
  {
   "cell_type": "code",
   "execution_count": 2,
   "id": "8dc82507",
   "metadata": {
    "ExecuteTime": {
     "end_time": "2022-08-17T12:51:05.474110Z",
     "start_time": "2022-08-17T12:51:05.449611Z"
    }
   },
   "outputs": [
    {
     "name": "stdout",
     "output_type": "stream",
     "text": [
      "Inside Constructor\n",
      "Object Initialized\n",
      "Hi, My Name is Mirhan\n",
      "Inside destructor\n",
      "Object destroyed\n"
     ]
    }
   ],
   "source": [
    "class Student:\n",
    "    \n",
    "    def __init__(self,Name):            #  constructor\n",
    "        print (\"Inside Constructor\")\n",
    "        self.Name = Name\n",
    "        print (\"Object Initialized\")\n",
    "        \n",
    "        \n",
    "    def show(self):\n",
    "        print (\"Hi, My Name is\", self.Name)\n",
    "\n",
    "    \n",
    "    def __del__(self):                 #  destructor\n",
    "        print('Inside destructor')\n",
    "        print('Object destroyed')\n",
    "        \n",
    "\n",
    "# create object\n",
    "Stu1 = Student(\"Mirhan\")\n",
    "Stu1.show()\n",
    "\n",
    "# delete object\n",
    "del Stu1\n",
    "        "
   ]
  },
  {
   "cell_type": "code",
   "execution_count": 3,
   "id": "f02dc307",
   "metadata": {
    "ExecuteTime": {
     "end_time": "2022-08-17T12:57:43.324692Z",
     "start_time": "2022-08-17T12:57:43.307638Z"
    }
   },
   "outputs": [
    {
     "name": "stdout",
     "output_type": "stream",
     "text": [
      "Mirhan deleted\n",
      "Mirhan deleted\n"
     ]
    }
   ],
   "source": [
    "# EX2:\n",
    "\n",
    "class Mirhan:\n",
    "    def __del__(self):\n",
    "        print ('Mirhan deleted')\n",
    "m = Mirhan()\n",
    "del m\n",
    "m = Mirhan()\n",
    "d = m\n",
    "del d\n",
    "del m"
   ]
  },
  {
   "cell_type": "code",
   "execution_count": null,
   "id": "df069d07",
   "metadata": {},
   "outputs": [],
   "source": []
  }
 ],
 "metadata": {
  "kernelspec": {
   "display_name": "Python 3 (ipykernel)",
   "language": "python",
   "name": "python3"
  },
  "language_info": {
   "codemirror_mode": {
    "name": "ipython",
    "version": 3
   },
   "file_extension": ".py",
   "mimetype": "text/x-python",
   "name": "python",
   "nbconvert_exporter": "python",
   "pygments_lexer": "ipython3",
   "version": "3.9.12"
  }
 },
 "nbformat": 4,
 "nbformat_minor": 5
}
