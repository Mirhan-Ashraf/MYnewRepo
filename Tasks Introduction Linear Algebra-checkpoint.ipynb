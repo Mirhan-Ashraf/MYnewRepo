{
 "cells": [
  {
   "cell_type": "markdown",
   "id": "00b1f68a",
   "metadata": {},
   "source": [
    "# How do you convert nonlinear to linear equations?\n"
   ]
  },
  {
   "cell_type": "markdown",
   "id": "d6ed107e",
   "metadata": {},
   "source": [
    "### https://www.youtube.com/watch?v=2t9f0fHKTLw"
   ]
  },
  {
   "cell_type": "markdown",
   "id": "11c4f2dd",
   "metadata": {},
   "source": [
    "### Steps in order:\n",
    "\n",
    "### 1.Assume a capital letter -recommended- (first degree) for each variable and its degree.\n",
    "### 2.Change the coordinates axes according to new variables."
   ]
  },
  {
   "cell_type": "markdown",
   "id": "3b4ef1ab",
   "metadata": {},
   "source": [
    "# What is PCA and how it works?\n"
   ]
  },
  {
   "cell_type": "markdown",
   "id": "5920b38d",
   "metadata": {},
   "source": [
    "### Principal Component Analysis, or PCA, is a dimensionality-reduction method that is often used to reduce the dimensionality of large data sets.\n",
    "\n",
    "### Principal Component Analysis, or PCA, is a dimensionality-reduction method that is often used to reduce the dimensionality of large data sets.\n"
   ]
  },
  {
   "cell_type": "markdown",
   "id": "42114cf8",
   "metadata": {},
   "source": [
    "# What are C++ Libraries for Artificial Intelligence? "
   ]
  },
  {
   "cell_type": "markdown",
   "id": "9a7ff53d",
   "metadata": {},
   "source": [
    "##### TensorFlow\n",
    "##### mlpack Library\n",
    "##### Microsoft Cognitive Toolkit (CNTK)\n",
    "##### DyNet\n",
    "##### Caffe\n"
   ]
  },
  {
   "cell_type": "code",
   "execution_count": null,
   "id": "fee2acd3",
   "metadata": {},
   "outputs": [],
   "source": []
  }
 ],
 "metadata": {
  "kernelspec": {
   "display_name": "Python 3 (ipykernel)",
   "language": "python",
   "name": "python3"
  },
  "language_info": {
   "codemirror_mode": {
    "name": "ipython",
    "version": 3
   },
   "file_extension": ".py",
   "mimetype": "text/x-python",
   "name": "python",
   "nbconvert_exporter": "python",
   "pygments_lexer": "ipython3",
   "version": "3.9.12"
  }
 },
 "nbformat": 4,
 "nbformat_minor": 5
}
