{
 "cells": [
  {
   "cell_type": "code",
   "execution_count": 1,
   "id": "4483f538",
   "metadata": {
    "ExecuteTime": {
     "end_time": "2022-08-07T11:24:12.183873Z",
     "start_time": "2022-08-07T11:24:12.161962Z"
    }
   },
   "outputs": [
    {
     "name": "stdout",
     "output_type": "stream",
     "text": [
      "[1505, 1540, 1575, 1610, 1645, 1680, 1715, 1750, 1785, 1820, 1855, 1890, 1925, 1960, 1995, 2030, 2065, 2100, 2135, 2170, 2205, 2240, 2275, 2310, 2345, 2380, 2415, 2450, 2485, 2520, 2555, 2590, 2625, 2660, 2695]\n"
     ]
    }
   ],
   "source": [
    "#[1]\n",
    "\n",
    "l = []\n",
    "for m in range(1500, 2700,5):\n",
    "    if (m % 7 == 0):\n",
    "        l.append(m)\n",
    "print(l)"
   ]
  },
  {
   "cell_type": "code",
   "execution_count": 2,
   "id": "a7585c17",
   "metadata": {
    "ExecuteTime": {
     "end_time": "2022-08-07T11:24:49.100522Z",
     "start_time": "2022-08-07T11:24:32.490331Z"
    }
   },
   "outputs": [
    {
     "name": "stdout",
     "output_type": "stream",
     "text": [
      "Please Enter Tempretuer You like:45\n",
      "Enter F or C:C\n",
      "113.0\n"
     ]
    }
   ],
   "source": [
    "#[2]\n",
    "# Fahrenheit = (Celsius * 9/5) + 32 and Celsius = (Fahrenheit – 32) * 5/9\n",
    "\n",
    "temp = float(input(\"Please Enter Tempretuer You like:\"))\n",
    "degree = input(\"Enter F or C:\")\n",
    "\n",
    "if degree == \"C\":\n",
    "    print((temp *  9/5) + 32)\n",
    "elif  degree == \"F\":\n",
    "        print((temp - 32) * 5/9)"
   ]
  },
  {
   "cell_type": "code",
   "execution_count": 3,
   "id": "757f8c26",
   "metadata": {
    "ExecuteTime": {
     "end_time": "2022-08-07T11:25:17.943677Z",
     "start_time": "2022-08-07T11:25:17.920476Z"
    }
   },
   "outputs": [
    {
     "name": "stdout",
     "output_type": "stream",
     "text": [
      "\n",
      "*  \n",
      "*  *  \n",
      "*  *  *  \n",
      "*  *  *  *  \n",
      "*  *  *  *  *  \n",
      "*  *  *  *  \n",
      "*  *  *  \n",
      "*  *  \n",
      "*  \n"
     ]
    }
   ],
   "source": [
    "#[3]\n",
    "\n",
    "m = 5\n",
    "for i in range(m):\n",
    "    for b in range(i):\n",
    "        print ('*  ', end = \"\")\n",
    "    print('')\n",
    "\n",
    "for i in range(m, 0, -1):\n",
    "    for b in range(i):\n",
    "        print('*  ', end = \"\")\n",
    "    print('')"
   ]
  },
  {
   "cell_type": "code",
   "execution_count": 13,
   "id": "017e78fe",
   "metadata": {
    "ExecuteTime": {
     "end_time": "2022-08-07T11:42:50.888623Z",
     "start_time": "2022-08-07T11:42:45.726063Z"
    }
   },
   "outputs": [
    {
     "name": "stdout",
     "output_type": "stream",
     "text": [
      "Enter any word: mirhan\n",
      "nahrim\n",
      "\n"
     ]
    }
   ],
   "source": [
    "#[4]\n",
    "\n",
    "word = input(\"Enter any word: \")\n",
    " \n",
    "for char in range(len(word) - 1, -1, -1):\n",
    "  print(word[char], end=\"\")\n",
    "print(\"\\n\")"
   ]
  },
  {
   "cell_type": "code",
   "execution_count": 26,
   "id": "d5fa6d88",
   "metadata": {
    "ExecuteTime": {
     "end_time": "2022-08-07T12:13:03.181742Z",
     "start_time": "2022-08-07T12:12:41.658617Z"
    }
   },
   "outputs": [
    {
     "name": "stdout",
     "output_type": "stream",
     "text": [
      "Enter n: 300\n",
      "Enter m: 200\n",
      "Enter z: 2500\n",
      "Max number is 2500\n"
     ]
    }
   ],
   "source": [
    "#[5]\n",
    "\n",
    "n = int(input(\"Enter n: \"))\n",
    "\n",
    "m = int(input(\"Enter m: \"));\n",
    "\n",
    "z = int(input(\"Enter z: \"));\n",
    "\n",
    "\n",
    "def m_max():\n",
    "    if (n >= m) and (n >= z):\n",
    "        l = n\n",
    "\n",
    "    elif (m >= n) and (m >= z):\n",
    "        l = m\n",
    "    else:\n",
    "        l = z\n",
    "    print(\"Max number is\", l)\n",
    "\n",
    "\n",
    "m_max()"
   ]
  },
  {
   "cell_type": "code",
   "execution_count": 27,
   "id": "10c48745",
   "metadata": {
    "ExecuteTime": {
     "end_time": "2022-08-07T12:17:27.797062Z",
     "start_time": "2022-08-07T12:17:27.777464Z"
    }
   },
   "outputs": [
    {
     "name": "stdout",
     "output_type": "stream",
     "text": [
      "24\n"
     ]
    }
   ],
   "source": [
    "#[6]\n",
    "\n",
    "listb = [14, 7, 1, 2]\n",
    "sum_listb = 0\n",
    "for m in listb:\n",
    "    sum_listb += m\n",
    "\n",
    "print(sum_listb)"
   ]
  },
  {
   "cell_type": "code",
   "execution_count": 28,
   "id": "e84bce95",
   "metadata": {
    "ExecuteTime": {
     "end_time": "2022-08-07T12:25:06.257100Z",
     "start_time": "2022-08-07T12:25:06.242688Z"
    }
   },
   "outputs": [
    {
     "name": "stdout",
     "output_type": "stream",
     "text": [
      "0\n",
      "1\n",
      "2\n",
      "4\n",
      "5\n"
     ]
    }
   ],
   "source": [
    "#[7]\n",
    "\n",
    "for m in range (7):\n",
    "    if (m == 3 or m == 6):\n",
    "        continue\n",
    "       \n",
    "    print(m )"
   ]
  },
  {
   "cell_type": "code",
   "execution_count": 34,
   "id": "d0f0cec9",
   "metadata": {
    "ExecuteTime": {
     "end_time": "2022-08-07T12:37:48.550448Z",
     "start_time": "2022-08-07T12:37:42.912133Z"
    }
   },
   "outputs": [
    {
     "name": "stdout",
     "output_type": "stream",
     "text": [
      "Enter num to compute the factorial: 3\n"
     ]
    },
    {
     "data": {
      "text/plain": [
       "6"
      ]
     },
     "execution_count": 34,
     "metadata": {},
     "output_type": "execute_result"
    }
   ],
   "source": [
    "#[8]\n",
    "\n",
    "def factorial(number):\n",
    "    facnumber = 1\n",
    "    for i in range(1, number + 1):\n",
    "        facnumber *= i\n",
    "    return facnumber\n",
    "m = int(input(\"Enter num to compute the factorial: \"))\n",
    "\n",
    "factorial(m)"
   ]
  },
  {
   "cell_type": "code",
   "execution_count": 42,
   "id": "20b30ef8",
   "metadata": {
    "ExecuteTime": {
     "end_time": "2022-08-07T12:50:35.169719Z",
     "start_time": "2022-08-07T12:50:35.154217Z"
    }
   },
   "outputs": [
    {
     "name": "stdout",
     "output_type": "stream",
     "text": [
      "[8, 9, 10, 11]\n"
     ]
    }
   ],
   "source": [
    "#[9]\n",
    "\n",
    "def unique_list(l):\n",
    "  g = []\n",
    "  for j in l:\n",
    "    if j not in g:\n",
    "     g.append(j)\n",
    "  return g\n",
    "\n",
    "print(unique_list([8,9,10,10,10,10,11]))"
   ]
  },
  {
   "cell_type": "code",
   "execution_count": 44,
   "id": "7fe2e560",
   "metadata": {
    "ExecuteTime": {
     "end_time": "2022-08-07T12:58:05.242496Z",
     "start_time": "2022-08-07T12:58:05.234830Z"
    }
   },
   "outputs": [
    {
     "name": "stdout",
     "output_type": "stream",
     "text": [
      "25\n",
      "48\n"
     ]
    }
   ],
   "source": [
    "#[10]\n",
    "\n",
    "c = lambda b : b + 15\n",
    "print(c(10))\n",
    "c = lambda x, y : x * y\n",
    "print(c(12, 4))\n"
   ]
  },
  {
   "cell_type": "code",
   "execution_count": null,
   "id": "d8a75a15",
   "metadata": {},
   "outputs": [],
   "source": []
  }
 ],
 "metadata": {
  "kernelspec": {
   "display_name": "Python 3 (ipykernel)",
   "language": "python",
   "name": "python3"
  },
  "language_info": {
   "codemirror_mode": {
    "name": "ipython",
    "version": 3
   },
   "file_extension": ".py",
   "mimetype": "text/x-python",
   "name": "python",
   "nbconvert_exporter": "python",
   "pygments_lexer": "ipython3",
   "version": "3.9.12"
  }
 },
 "nbformat": 4,
 "nbformat_minor": 5
}
