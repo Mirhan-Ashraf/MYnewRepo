{
 "cells": [
  {
   "cell_type": "markdown",
   "id": "6a576a3d",
   "metadata": {},
   "source": [
    "### Question 1: \n",
    "\n",
    "What is AI? "
   ]
  },
  {
   "cell_type": "markdown",
   "id": "163aad5c",
   "metadata": {},
   "source": [
    "Artificial intelligence is the simulation of human intelligence processes by machines, especially computer systems. Specific applications of AI include expert systems, natural language processing, speech recognition and machine vision and it is the ability to make decisions without feelings."
   ]
  },
  {
   "cell_type": "markdown",
   "id": "d2d0fdf8",
   "metadata": {},
   "source": [
    "### Question 2: \n",
    "Why AI is used ? "
   ]
  },
  {
   "cell_type": "markdown",
   "id": "cc6832f9",
   "metadata": {},
   "source": [
    "Optimization: making the best decision.\n",
    "Generalization: In the sense that the solution is general to more than one problem."
   ]
  },
  {
   "cell_type": "markdown",
   "id": "218581f4",
   "metadata": {},
   "source": [
    "### Question 3:\n",
    "When to use AI ? "
   ]
  },
  {
   "cell_type": "markdown",
   "id": "1e7a0135",
   "metadata": {},
   "source": [
    "We use AI when no solution to this problem after data analytics becouse ai is costing."
   ]
  },
  {
   "cell_type": "markdown",
   "id": "3a9ccfac",
   "metadata": {},
   "source": [
    "### Question 4:\n",
    "\n",
    "Define the AI pipeline"
   ]
  },
  {
   "cell_type": "code",
   "execution_count": null,
   "id": "fa39d490",
   "metadata": {},
   "outputs": [],
   "source": [
    "An AI or machine learning pipeline is an interconnected and streamlined collection of operations. The information works its way into and through an machine learning system, from data collection to training models"
   ]
  },
  {
   "cell_type": "markdown",
   "id": "accceeb3",
   "metadata": {},
   "source": [
    "### Question 5:\n",
    "\n",
    "Define the general sequence of Software Engineering..."
   ]
  },
  {
   "cell_type": "markdown",
   "id": "28bb2b7e",
   "metadata": {},
   "source": [
    "#### To solve the problem in the least time and accuracy\n",
    "#### 1- Verify \n",
    "#### 2- Data Collection \n",
    "#### 3- Data Preprocessing \n",
    "#### 4- Feature engineering \n",
    "#### 5- model Selection \n",
    "#### 6- Fiting \n",
    "#### 7- Training \n",
    "#### 8- Testing \n",
    "#### 9- Save Model \n",
    "#### 10- Documentation \n",
    "#### 11- integration \n",
    "#### 12- monitoring \n",
    "#### 13- maintainance"
   ]
  },
  {
   "cell_type": "markdown",
   "id": "a293f056",
   "metadata": {},
   "source": [
    "### Question 6: \n",
    "\n",
    "Why DivOps is one of the most used cycles in software engineering?"
   ]
  },
  {
   "cell_type": "markdown",
   "id": "d6453ecf",
   "metadata": {},
   "source": [
    "#### It configures continuous integration, continuous delivery and continuous deployment in the release cycle. DevOps helps in team collaboration, reduction in failures/rollbacks and also provides scope for continuous improvement\n",
    "#### Use a few devolpers to make a big project"
   ]
  },
  {
   "cell_type": "markdown",
   "id": "ac346297",
   "metadata": {},
   "source": [
    "### Question 7\n",
    "What is software Engineering ?"
   ]
  },
  {
   "cell_type": "markdown",
   "id": "4af8cd8c",
   "metadata": {},
   "source": [
    "####  It is a branch of engineering that deals with the development of software products. It operates within a set of principles, best practices, and methods that have been carefully honed throughout the years, changing as software and technology change.\n"
   ]
  },
  {
   "cell_type": "markdown",
   "id": "1c2fb447",
   "metadata": {},
   "source": [
    "### Question 8\n",
    "\n",
    "Define MLOPS "
   ]
  },
  {
   "cell_type": "markdown",
   "id": "be247d87",
   "metadata": {},
   "source": [
    "### MLOps focuses on delivering a working machine learning model\n"
   ]
  },
  {
   "cell_type": "markdown",
   "id": "bc99c5e6",
   "metadata": {},
   "source": [
    "### Question 9\n",
    "Define DataOps"
   ]
  },
  {
   "cell_type": "markdown",
   "id": "6c2e2d51",
   "metadata": {},
   "source": [
    "### DevOps pipelines focus on developing a new version of a software product"
   ]
  },
  {
   "cell_type": "markdown",
   "id": "02613a0f",
   "metadata": {},
   "source": [
    "### Question 10\n",
    "\n",
    "AI is ....% Data Operations , and ..... Model Creation "
   ]
  },
  {
   "cell_type": "markdown",
   "id": "462a256d",
   "metadata": {
    "ExecuteTime": {
     "end_time": "2022-11-17T03:23:31.756849Z",
     "start_time": "2022-11-17T03:23:31.747324Z"
    }
   },
   "source": []
  },
  {
   "cell_type": "markdown",
   "id": "d4648503",
   "metadata": {},
   "source": [
    "### AI is 80 % Data Operation and 20 % Model Creation."
   ]
  },
  {
   "cell_type": "markdown",
   "id": "a13df1ff",
   "metadata": {},
   "source": [
    "### Question 11\n",
    "\n",
    "Give 5 Examples of AI driven Companies in Egypt\n"
   ]
  },
  {
   "cell_type": "code",
   "execution_count": null,
   "id": "ab6b874f",
   "metadata": {},
   "outputs": [],
   "source": []
  },
  {
   "cell_type": "markdown",
   "id": "8db77a51",
   "metadata": {},
   "source": [
    "#### 1- DXWand\n",
    "#### 2- Crowed Analyzer\n",
    "#### 3- Cassbana\n",
    "#### 4- MerQ\n",
    "#### 5- WideBot"
   ]
  },
  {
   "cell_type": "markdown",
   "id": "01dbf289",
   "metadata": {
    "heading_collapsed": true
   },
   "source": [
    "### Question 12\n",
    "What are the main fields of AI in Egypt?\n"
   ]
  },
  {
   "cell_type": "code",
   "execution_count": null,
   "id": "457b1747",
   "metadata": {
    "hidden": true
   },
   "outputs": [],
   "source": []
  },
  {
   "cell_type": "markdown",
   "id": "c5e470bd",
   "metadata": {
    "hidden": true
   },
   "source": [
    "### 1- Data Analysis\n",
    "### 2- Data Engineer\n",
    "### 3- Data science"
   ]
  },
  {
   "cell_type": "markdown",
   "id": "c6395f95",
   "metadata": {},
   "source": [
    "### Question 13\n",
    "Define Data Science"
   ]
  },
  {
   "cell_type": "code",
   "execution_count": null,
   "id": "7db222f1",
   "metadata": {},
   "outputs": [],
   "source": []
  },
  {
   "cell_type": "markdown",
   "id": "d00e59fb",
   "metadata": {},
   "source": [
    "### Data science is the study of data to extract meaningful insights for business. It is a multidisciplinary approach that combines principles and practices from the fields of mathematics, statistics, artificial intelligence, and computer engineering to analyze large amounts of data. This analysis helps data scientists to ask and answer questions like what happened, why it happened, what will happen, and what can be done with the results."
   ]
  },
  {
   "cell_type": "markdown",
   "id": "73bba650",
   "metadata": {},
   "source": [
    "### Question 14 \n",
    "What is the difference between Data Engineer, Data Analyst and Data Scientist "
   ]
  },
  {
   "cell_type": "code",
   "execution_count": null,
   "id": "b45ca357",
   "metadata": {},
   "outputs": [],
   "source": []
  },
  {
   "cell_type": "markdown",
   "id": "0f491cb9",
   "metadata": {},
   "source": [
    "### A data analyst is responsible for taking actionable that affect the current scope of the company. \n",
    "### A data engineer is responsible for developing a platform that data analysts and data scientists work on.\n",
    "### data scientist is responsible for unearthing future insights from existing data and helping companies to make data-driven decisions."
   ]
  },
  {
   "cell_type": "markdown",
   "id": "1d334500",
   "metadata": {},
   "source": [
    "### Question 15\n",
    "What are the most important skills an AI Engineer must have? "
   ]
  },
  {
   "cell_type": "code",
   "execution_count": null,
   "id": "a2384067",
   "metadata": {},
   "outputs": [],
   "source": []
  },
  {
   "cell_type": "markdown",
   "id": "4a1bec93",
   "metadata": {},
   "source": [
    "### Programming languages (Python)\n",
    "### Linear algebra and statistics\n",
    "### problem Solving\n",
    "### software Engineer\n",
    "### calculas\n",
    "### Neural network architectures\n",
    "### Probabilities"
   ]
  },
  {
   "cell_type": "markdown",
   "id": "af356a7e",
   "metadata": {},
   "source": [
    "### Question 16: ( Bonus ) \n",
    "Who is my favorite Character in My favoirte Show "
   ]
  },
  {
   "cell_type": "code",
   "execution_count": null,
   "id": "a1bd57e6",
   "metadata": {
    "ExecuteTime": {
     "end_time": "2022-03-05T16:34:27.424995Z",
     "start_time": "2022-03-05T16:34:26.968182Z"
    }
   },
   "outputs": [],
   "source": []
  },
  {
   "cell_type": "markdown",
   "id": "c8036275",
   "metadata": {},
   "source": []
  },
  {
   "cell_type": "markdown",
   "id": "3f5f4f84",
   "metadata": {
    "heading_collapsed": true
   },
   "source": [
    "### Question 17: ( Bonus )\n",
    "What is my favorite TV Show"
   ]
  },
  {
   "cell_type": "code",
   "execution_count": null,
   "id": "c7efecc9",
   "metadata": {
    "hidden": true
   },
   "outputs": [],
   "source": []
  },
  {
   "cell_type": "markdown",
   "id": "63b63b6e",
   "metadata": {
    "hidden": true
   },
   "source": [
    "https://images-na.ssl-images-amazon.com/images/I/91Elu5k9oIL._SL1500_.jpg"
   ]
  },
  {
   "cell_type": "markdown",
   "id": "9b32666b",
   "metadata": {},
   "source": [
    "### Question 18: \n",
    "What are the possible methods to collect our data? "
   ]
  },
  {
   "cell_type": "code",
   "execution_count": null,
   "id": "a689e0e2",
   "metadata": {},
   "outputs": [],
   "source": []
  },
  {
   "cell_type": "markdown",
   "id": "e4cd67ab",
   "metadata": {},
   "source": [
    "### Websites to get free data: Kaggle , Google Dataset\n",
    "### Web scrapping, create data if not found using survays."
   ]
  },
  {
   "cell_type": "markdown",
   "id": "bf7d6a7d",
   "metadata": {},
   "source": [
    "### Question 19: \n",
    "What is Feature Engineering? "
   ]
  },
  {
   "cell_type": "code",
   "execution_count": null,
   "id": "6c311338",
   "metadata": {},
   "outputs": [],
   "source": []
  },
  {
   "cell_type": "markdown",
   "id": "afbe1895",
   "metadata": {},
   "source": [
    "#### Feature engineering refers to the process of using domain knowledge to select and transform the most relevant variables from raw data when creating a predictive model using machine learning or statistical modeling."
   ]
  },
  {
   "cell_type": "markdown",
   "id": "aa1e2ea5",
   "metadata": {},
   "source": [
    "### Question 20: \n",
    "What are the main fields of mathematics used in AI? "
   ]
  },
  {
   "cell_type": "code",
   "execution_count": null,
   "id": "2d05b460",
   "metadata": {},
   "outputs": [],
   "source": []
  },
  {
   "cell_type": "markdown",
   "id": "d13086b5",
   "metadata": {},
   "source": [
    "### 1- Propabilities\n",
    "### 2- calculas\n",
    "### 3- Linear Algebra\n",
    "### 4- Statiecs"
   ]
  },
  {
   "cell_type": "markdown",
   "id": "419d022b",
   "metadata": {
    "heading_collapsed": true
   },
   "source": [
    "### Question 21:\n",
    "What is Data Sampling ?"
   ]
  },
  {
   "cell_type": "code",
   "execution_count": null,
   "id": "f09d5aa6",
   "metadata": {
    "hidden": true
   },
   "outputs": [],
   "source": []
  },
  {
   "cell_type": "markdown",
   "id": "a0d37480",
   "metadata": {
    "hidden": true
   },
   "source": [
    "### Data sampling is a statistical analysis technique used to select, manipulate and analyze a representative subset of data points to identify patterns and trends in the larger data set being examined. It enables data scientists, predictive modelers and other data analysts to work with a small, manageable amount of data about a statistical population to build and run analytical models more quickly, while still producing accurate findings"
   ]
  },
  {
   "cell_type": "markdown",
   "id": "458d8ee3",
   "metadata": {
    "heading_collapsed": true
   },
   "source": [
    "### Question 22: \n",
    "What is Sample Size ?"
   ]
  },
  {
   "cell_type": "code",
   "execution_count": null,
   "id": "a990b3dd",
   "metadata": {
    "hidden": true
   },
   "outputs": [],
   "source": []
  },
  {
   "cell_type": "markdown",
   "id": "1ee986dd",
   "metadata": {
    "hidden": true
   },
   "source": [
    "### The sample size is a term used in market research for defining the number of subjects included in a sample size. By sample size, we understand a group of subjects that are selected from the general population and is considered a representative of the real population for that specific study and max 30% to 40% or less."
   ]
  },
  {
   "cell_type": "markdown",
   "id": "cfe6048a",
   "metadata": {},
   "source": [
    "### Question 23: \n",
    "How to avoid bad Sampling"
   ]
  },
  {
   "cell_type": "code",
   "execution_count": null,
   "id": "03bb162f",
   "metadata": {},
   "outputs": [],
   "source": []
  },
  {
   "cell_type": "markdown",
   "id": "c77f569a",
   "metadata": {},
   "source": [
    "### 1- sample size should be:max 30% to 40% or  less  \n",
    "### 2- sample should be diverse \n",
    "### 3- the experience should be repeated and the average of results should be taken.\n",
    "### 4-  have a domain knowlegde"
   ]
  },
  {
   "cell_type": "markdown",
   "id": "c8608601",
   "metadata": {},
   "source": [
    "### Question 24:\n",
    "What are the acceptable range of sampling ?"
   ]
  },
  {
   "cell_type": "code",
   "execution_count": null,
   "id": "c15bf59f",
   "metadata": {},
   "outputs": [],
   "source": []
  },
  {
   "cell_type": "markdown",
   "id": "65ee8f45",
   "metadata": {},
   "source": [
    "### Max 30% to 40% or  less"
   ]
  },
  {
   "cell_type": "markdown",
   "id": "1061c6a1",
   "metadata": {},
   "source": [
    "### Question 25:\n",
    "What AI is trying to find when working with data? \n"
   ]
  },
  {
   "cell_type": "code",
   "execution_count": null,
   "id": "0f3724aa",
   "metadata": {},
   "outputs": [],
   "source": []
  },
  {
   "cell_type": "markdown",
   "id": "5d8494d5",
   "metadata": {},
   "source": [
    "### can ask questions, discover and test hypotheses, and make decisions automatically based on advanced analytics operating on extensive data sets."
   ]
  },
  {
   "cell_type": "markdown",
   "id": "8cd6d2c8",
   "metadata": {
    "heading_collapsed": true
   },
   "source": [
    "### Question 26:\n",
    "What are the problem of generalizing a result obtained by a sample into the whole data ? "
   ]
  },
  {
   "cell_type": "code",
   "execution_count": null,
   "id": "4338d489",
   "metadata": {
    "hidden": true
   },
   "outputs": [],
   "source": []
  },
  {
   "cell_type": "markdown",
   "id": "edde924c",
   "metadata": {
    "hidden": true
   },
   "source": [
    "###   The result cannot be generalized to all problems, the result will not be suitable for all the subjects  For example, when producing T-shirts, not only a small size is produced, but a product small , large , xs, xl,xxl...etc."
   ]
  },
  {
   "cell_type": "markdown",
   "id": "d4a32a06",
   "metadata": {
    "heading_collapsed": true
   },
   "source": [
    "### Question 27:\n",
    "Why do we do Sampling?\n"
   ]
  },
  {
   "cell_type": "code",
   "execution_count": null,
   "id": "f98b20ed",
   "metadata": {
    "hidden": true
   },
   "outputs": [],
   "source": []
  },
  {
   "cell_type": "markdown",
   "id": "8c6fbb2e",
   "metadata": {
    "hidden": true
   },
   "source": [
    "### Samples are used to make inferences about populations. Samples are easier to collect data from because they are practical, cost-effective, convenient, and manageable."
   ]
  },
  {
   "cell_type": "markdown",
   "id": "f0f9f79b",
   "metadata": {
    "heading_collapsed": true
   },
   "source": [
    "### Question 28: \n",
    "Define Statistical Test"
   ]
  },
  {
   "cell_type": "code",
   "execution_count": null,
   "id": "f21098ff",
   "metadata": {
    "hidden": true
   },
   "outputs": [],
   "source": []
  },
  {
   "cell_type": "markdown",
   "id": "ca302926",
   "metadata": {
    "hidden": true
   },
   "source": [
    "### A statistical test is a procedure for deciding whether an assertion (e. g. a hypothesis) about a quantitative feature of a population is true or false."
   ]
  },
  {
   "cell_type": "markdown",
   "id": "8f393944",
   "metadata": {},
   "source": [
    "### Question 29: \n",
    "Suggest methods to work with small data "
   ]
  },
  {
   "cell_type": "code",
   "execution_count": null,
   "id": "368fdd6f",
   "metadata": {},
   "outputs": [],
   "source": []
  },
  {
   "cell_type": "markdown",
   "id": "e8836363",
   "metadata": {},
   "source": []
  },
  {
   "cell_type": "markdown",
   "id": "d53bbd87",
   "metadata": {
    "heading_collapsed": true
   },
   "source": [
    "### Question 30: \n",
    "What are the types of data?"
   ]
  },
  {
   "cell_type": "code",
   "execution_count": null,
   "id": "7fdcf674",
   "metadata": {
    "hidden": true
   },
   "outputs": [],
   "source": []
  },
  {
   "cell_type": "markdown",
   "id": "fc32175b",
   "metadata": {
    "hidden": true
   },
   "source": [
    "### quantitive:\n",
    "### 1. discrete \n",
    "### 2. continues\n",
    "### qualitative:\n",
    "### 1. nominal\n",
    "### 2. ordinal"
   ]
  },
  {
   "cell_type": "markdown",
   "id": "beb6efae",
   "metadata": {},
   "source": [
    "### Question 31: \n",
    "What is a programming language?"
   ]
  },
  {
   "cell_type": "code",
   "execution_count": null,
   "id": "4583ca5a",
   "metadata": {},
   "outputs": [],
   "source": []
  },
  {
   "cell_type": "markdown",
   "id": "806caea0",
   "metadata": {},
   "source": [
    "### python \n",
    "### R \n",
    "### Java\n",
    "### C++\n",
    "### Ruby\n",
    "### c#"
   ]
  },
  {
   "cell_type": "markdown",
   "id": "1896fdad",
   "metadata": {
    "heading_collapsed": true
   },
   "source": [
    "### Question 32: \n",
    "Give 2 examples of low level programming languages:"
   ]
  },
  {
   "cell_type": "code",
   "execution_count": null,
   "id": "034a2bc4",
   "metadata": {
    "hidden": true
   },
   "outputs": [],
   "source": []
  },
  {
   "cell_type": "markdown",
   "id": "9c9c369c",
   "metadata": {
    "hidden": true
   },
   "source": [
    "### c  c++ \n",
    "### assembly"
   ]
  },
  {
   "cell_type": "markdown",
   "id": "b525bbc3",
   "metadata": {
    "heading_collapsed": true
   },
   "source": [
    "### Question 33: ( Bonus ) \n",
    "What is the difference between java and JavaScript ?"
   ]
  },
  {
   "cell_type": "code",
   "execution_count": null,
   "id": "96ab6467",
   "metadata": {
    "hidden": true
   },
   "outputs": [],
   "source": []
  },
  {
   "cell_type": "markdown",
   "id": "fed2831b",
   "metadata": {
    "hidden": true
   },
   "source": [
    "### Java make complet system\n",
    "### JavaScript  part of System"
   ]
  },
  {
   "cell_type": "markdown",
   "id": "ed01110b",
   "metadata": {
    "heading_collapsed": true
   },
   "source": [
    "### Question 34: \n",
    "Give a complete definition for python as a programming language"
   ]
  },
  {
   "cell_type": "code",
   "execution_count": null,
   "id": "f30e39e2",
   "metadata": {
    "hidden": true
   },
   "outputs": [],
   "source": []
  },
  {
   "cell_type": "markdown",
   "id": "f711f301",
   "metadata": {
    "hidden": true
   },
   "source": [
    "### High level\n",
    "### Open source\n",
    "### Not type\n",
    "### Interpreted \n",
    "### General purposes \n",
    "### Support OOP"
   ]
  },
  {
   "cell_type": "markdown",
   "id": "34fde1d4",
   "metadata": {
    "heading_collapsed": true
   },
   "source": [
    "### Question 35:\n",
    "Why do we use python for AI ?"
   ]
  },
  {
   "cell_type": "code",
   "execution_count": null,
   "id": "9e6cf759",
   "metadata": {
    "hidden": true
   },
   "outputs": [],
   "source": []
  },
  {
   "cell_type": "markdown",
   "id": "1d1ee1f3",
   "metadata": {
    "hidden": true
   },
   "source": [
    "### low cost because it is open source, easy to use and easy to write code."
   ]
  },
  {
   "cell_type": "markdown",
   "id": "a2eb7f45",
   "metadata": {
    "ExecuteTime": {
     "end_time": "2021-06-28T09:06:12.936819Z",
     "start_time": "2021-06-28T09:06:12.930836Z"
    },
    "heading_collapsed": true
   },
   "source": [
    "### Question 36\n",
    "What are the most used programming languages for AI in business? and Why ?  ( State only 3 )"
   ]
  },
  {
   "cell_type": "raw",
   "id": "91099d65",
   "metadata": {
    "hidden": true
   },
   "source": []
  },
  {
   "cell_type": "markdown",
   "id": "5fca80d3",
   "metadata": {
    "hidden": true
   },
   "source": [
    "### 1. Python \n",
    "#### Python is a high-level general-purpose programming language. \n",
    "\n",
    "#### Developers cherish Python for its simple syntax and object-oriented approach to code maintainability. \n",
    "\n",
    "#### But although Python seems friendly, it’s well-equipped to handle large and complex projects.\n",
    "\n",
    "### 2. Java\n",
    "#### Java is a treasured server-side language. Its key feature is that you can use Java almost anywhere, on any platform, through its virtual machine. \n",
    "\n",
    "#### Though Android developers have the option to work with Kotlin as well, Java is a native language for Android app development.\n",
    "\n",
    "### 3. R \n",
    "#### R is a popular language for budding and professional statisticians alike. \n",
    "\n",
    "#### To be fair, R isn’t the best language for artificial intelligence. But it is pretty handy at crunching numbers. \n",
    "\n",
    "#### In AI development, data is crucial, so if you want to analyze and represent data accurately, things are going to get a bit mathematical."
   ]
  },
  {
   "cell_type": "markdown",
   "id": "123a198c",
   "metadata": {
    "heading_collapsed": true
   },
   "source": [
    "### Question 37: \n",
    "Can we use Simple Machine learning with image data ? and why / why not ? "
   ]
  },
  {
   "cell_type": "code",
   "execution_count": null,
   "id": "bff8fffd",
   "metadata": {
    "hidden": true
   },
   "outputs": [],
   "source": []
  },
  {
   "cell_type": "markdown",
   "id": "00eabdf2",
   "metadata": {
    "hidden": true
   },
   "source": [
    "### Yes "
   ]
  },
  {
   "cell_type": "markdown",
   "id": "fac70cf7",
   "metadata": {
    "heading_collapsed": true
   },
   "source": [
    "### Question 38: \n",
    "What are the basic data types of python ? "
   ]
  },
  {
   "cell_type": "markdown",
   "id": "c5fc2e68",
   "metadata": {
    "hidden": true
   },
   "source": [
    "### integer \n",
    "### float\n",
    "### string\n"
   ]
  },
  {
   "cell_type": "markdown",
   "id": "9b68e0d6",
   "metadata": {},
   "source": [
    "### Question 39: \n",
    "What are the basic containers in python ( Data Structure Elements )"
   ]
  },
  {
   "cell_type": "markdown",
   "id": "0af292b2",
   "metadata": {},
   "source": [
    "### list, tuple, set, dictionary"
   ]
  },
  {
   "cell_type": "markdown",
   "id": "5091503f",
   "metadata": {
    "heading_collapsed": true
   },
   "source": [
    "### Question 40: \n",
    "What are the most important packages for python to work with AI ? ( give at least 6 )"
   ]
  },
  {
   "cell_type": "code",
   "execution_count": null,
   "id": "e74d73b2",
   "metadata": {
    "hidden": true
   },
   "outputs": [],
   "source": []
  },
  {
   "cell_type": "markdown",
   "id": "3f2afcb7",
   "metadata": {
    "hidden": true
   },
   "source": [
    "### NumPy,Pandas,PyTorch,Matplotlib,TensorFlow,keras"
   ]
  },
  {
   "cell_type": "markdown",
   "id": "04f6103a",
   "metadata": {
    "heading_collapsed": true
   },
   "source": [
    "### Question 41: \n",
    "What is knowledge domain in data science? "
   ]
  },
  {
   "cell_type": "code",
   "execution_count": null,
   "id": "4f17f256",
   "metadata": {
    "hidden": true
   },
   "outputs": [],
   "source": []
  },
  {
   "cell_type": "markdown",
   "id": "de1b2143",
   "metadata": {
    "hidden": true
   },
   "source": [
    "### Knowing the data that we will work on"
   ]
  },
  {
   "cell_type": "markdown",
   "id": "f1b27f6b",
   "metadata": {
    "heading_collapsed": true
   },
   "source": [
    "### Question 42: \n",
    "Create a list of theses elements : 1,3,4,16,17,20, \"Ahmed\", \"Mazen\", True"
   ]
  },
  {
   "cell_type": "code",
   "execution_count": 2,
   "id": "2d021853",
   "metadata": {
    "ExecuteTime": {
     "end_time": "2022-11-17T06:07:08.834208Z",
     "start_time": "2022-11-17T06:07:08.815124Z"
    },
    "hidden": true
   },
   "outputs": [
    {
     "name": "stdout",
     "output_type": "stream",
     "text": [
      "[1, 3, 4, 16, 17, 20, 'Ahmed', 'Mazen', True]\n"
     ]
    }
   ],
   "source": [
    "# Creating a List\n",
    "Listele = [1,3,4,16,17,20,\"Ahmed\",\"Mazen\",True]\n",
    "\n",
    "print(Listele)"
   ]
  },
  {
   "cell_type": "markdown",
   "id": "2e9e357c",
   "metadata": {
    "hidden": true
   },
   "source": []
  },
  {
   "cell_type": "markdown",
   "id": "78f460ea",
   "metadata": {
    "heading_collapsed": true
   },
   "source": [
    "### Question 43: \n",
    "add 7 to the list "
   ]
  },
  {
   "cell_type": "code",
   "execution_count": 4,
   "id": "44555841",
   "metadata": {
    "ExecuteTime": {
     "end_time": "2022-11-17T06:15:25.558435Z",
     "start_time": "2022-11-17T06:15:25.548582Z"
    },
    "hidden": true
   },
   "outputs": [
    {
     "name": "stdout",
     "output_type": "stream",
     "text": [
      "[1, 3, 4, 16, 17, 20, 'Ahmed', 'Mazen', True, 7]\n"
     ]
    }
   ],
   "source": [
    "Listele.append(7)\n",
    "print(Listele)"
   ]
  },
  {
   "cell_type": "markdown",
   "id": "55792eb4",
   "metadata": {
    "hidden": true
   },
   "source": []
  },
  {
   "cell_type": "markdown",
   "id": "4a7ff235",
   "metadata": {
    "heading_collapsed": true
   },
   "source": [
    "### Question 44: \n",
    "remove 3 from the list "
   ]
  },
  {
   "cell_type": "code",
   "execution_count": 5,
   "id": "88adf65c",
   "metadata": {
    "ExecuteTime": {
     "end_time": "2022-11-17T06:16:38.445512Z",
     "start_time": "2022-11-17T06:16:38.428033Z"
    },
    "hidden": true
   },
   "outputs": [
    {
     "name": "stdout",
     "output_type": "stream",
     "text": [
      "[1, 4, 16, 17, 20, 'Ahmed', 'Mazen', True, 7]\n"
     ]
    }
   ],
   "source": [
    "Listele.remove(3)\n",
    "print(Listele)"
   ]
  },
  {
   "cell_type": "markdown",
   "id": "2883ba26",
   "metadata": {
    "hidden": true
   },
   "source": []
  },
  {
   "cell_type": "markdown",
   "id": "dff97409",
   "metadata": {
    "heading_collapsed": true
   },
   "source": [
    "### Question 45: \n",
    "Search for \"Ahmed\" in the list "
   ]
  },
  {
   "cell_type": "code",
   "execution_count": 9,
   "id": "bc9e5403",
   "metadata": {
    "ExecuteTime": {
     "end_time": "2022-11-17T06:26:08.252150Z",
     "start_time": "2022-11-17T06:26:08.246733Z"
    },
    "hidden": true
   },
   "outputs": [
    {
     "data": {
      "text/plain": [
       "5"
      ]
     },
     "execution_count": 9,
     "metadata": {},
     "output_type": "execute_result"
    }
   ],
   "source": [
    "Listele.index('Ahmed')"
   ]
  },
  {
   "cell_type": "markdown",
   "id": "51bac2ab",
   "metadata": {},
   "source": [
    "### Question 46: \n",
    "Count how many numbers 4 has occured"
   ]
  },
  {
   "cell_type": "code",
   "execution_count": 8,
   "id": "1c3c5b94",
   "metadata": {
    "ExecuteTime": {
     "end_time": "2022-11-17T06:23:56.287904Z",
     "start_time": "2022-11-17T06:23:56.272525Z"
    }
   },
   "outputs": [
    {
     "data": {
      "text/plain": [
       "1"
      ]
     },
     "execution_count": 8,
     "metadata": {},
     "output_type": "execute_result"
    }
   ],
   "source": [
    "Listele.count(4)"
   ]
  },
  {
   "cell_type": "markdown",
   "id": "79c2ab72",
   "metadata": {},
   "source": []
  },
  {
   "cell_type": "markdown",
   "id": "668b4e21",
   "metadata": {},
   "source": [
    "### Question 47:\n",
    "print only the even numbers in the list"
   ]
  },
  {
   "cell_type": "code",
   "execution_count": 30,
   "id": "c3cb6abe",
   "metadata": {
    "ExecuteTime": {
     "end_time": "2022-11-17T06:45:01.731258Z",
     "start_time": "2022-11-17T06:45:01.698583Z"
    }
   },
   "outputs": [
    {
     "name": "stdout",
     "output_type": "stream",
     "text": [
      "4\n",
      "16\n",
      "20\n"
     ]
    },
    {
     "ename": "TypeError",
     "evalue": "not all arguments converted during string formatting",
     "output_type": "error",
     "traceback": [
      "\u001b[1;31m---------------------------------------------------------------------------\u001b[0m",
      "\u001b[1;31mTypeError\u001b[0m                                 Traceback (most recent call last)",
      "Input \u001b[1;32mIn [30]\u001b[0m, in \u001b[0;36m<cell line: 1>\u001b[1;34m()\u001b[0m\n\u001b[0;32m      1\u001b[0m \u001b[38;5;28;01mfor\u001b[39;00m element \u001b[38;5;129;01min\u001b[39;00m Listele:\n\u001b[1;32m----> 2\u001b[0m     \u001b[38;5;28;01mif\u001b[39;00m \u001b[43melement\u001b[49m\u001b[38;5;241;43m%\u001b[39;49m\u001b[38;5;241;43m2\u001b[39;49m \u001b[38;5;241m==\u001b[39m\u001b[38;5;241m0\u001b[39m:\n\u001b[0;32m      3\u001b[0m         \u001b[38;5;28mprint\u001b[39m(element)\n",
      "\u001b[1;31mTypeError\u001b[0m: not all arguments converted during string formatting"
     ]
    }
   ],
   "source": [
    "for element in Listele:\n",
    "    if element % 2 ==0:\n",
    "        print(element)"
   ]
  },
  {
   "cell_type": "markdown",
   "id": "8d3dc713",
   "metadata": {},
   "source": []
  },
  {
   "cell_type": "markdown",
   "id": "8c7c3000",
   "metadata": {
    "heading_collapsed": true
   },
   "source": [
    "### Question 48: \n",
    "Sum only the numeric elements in the list"
   ]
  },
  {
   "cell_type": "code",
   "execution_count": 16,
   "id": "ed5fe114",
   "metadata": {
    "ExecuteTime": {
     "end_time": "2022-11-17T06:34:43.766597Z",
     "start_time": "2022-11-17T06:34:43.758332Z"
    }
   },
   "outputs": [
    {
     "name": "stdout",
     "output_type": "stream",
     "text": [
      "65\n"
     ]
    }
   ],
   "source": [
    "numbers=[]\n",
    "for element in Listele :\n",
    "    if type(element) == int:\n",
    "        numbers.append(element)\n",
    "\n",
    "Summ = sum(numbers)\n",
    "print(Summ)"
   ]
  },
  {
   "cell_type": "markdown",
   "id": "e12846fa",
   "metadata": {
    "hidden": true
   },
   "source": []
  },
  {
   "cell_type": "markdown",
   "id": "54dd5ba3",
   "metadata": {
    "heading_collapsed": true
   },
   "source": [
    "### Question 49: \n",
    "convert the list into a set "
   ]
  },
  {
   "cell_type": "code",
   "execution_count": 32,
   "id": "36265fdb",
   "metadata": {
    "ExecuteTime": {
     "end_time": "2022-11-17T06:49:43.243563Z",
     "start_time": "2022-11-17T06:49:43.224019Z"
    },
    "hidden": true
   },
   "outputs": [
    {
     "name": "stdout",
     "output_type": "stream",
     "text": [
      "{1, 4, 'Ahmed', 7, 16, 17, 20, 'Mazen'}\n"
     ]
    }
   ],
   "source": [
    "s = set(Listele)\n",
    "print(s)"
   ]
  },
  {
   "cell_type": "markdown",
   "id": "5d1818e5",
   "metadata": {
    "hidden": true
   },
   "source": []
  },
  {
   "cell_type": "markdown",
   "id": "8d10f249",
   "metadata": {
    "heading_collapsed": true
   },
   "source": [
    "### Question 50:\n",
    "change the first element to be 25 then print the new list"
   ]
  },
  {
   "cell_type": "code",
   "execution_count": 33,
   "id": "cb1fb618",
   "metadata": {
    "ExecuteTime": {
     "end_time": "2022-11-17T07:02:31.040129Z",
     "start_time": "2022-11-17T07:02:31.018922Z"
    },
    "hidden": true
   },
   "outputs": [
    {
     "data": {
      "text/plain": [
       "[25, 4, 16, 17, 20, 'Ahmed', 'Mazen', True, 7]"
      ]
     },
     "execution_count": 33,
     "metadata": {},
     "output_type": "execute_result"
    }
   ],
   "source": [
    "Listele[0] = 25\n",
    "Listele"
   ]
  },
  {
   "cell_type": "markdown",
   "id": "2d0621dc",
   "metadata": {
    "hidden": true
   },
   "source": []
  },
  {
   "cell_type": "markdown",
   "id": "7aa6a342",
   "metadata": {
    "heading_collapsed": true
   },
   "source": [
    "### Question 51: \n",
    "Assign only the first 5 values of the list into a new list called AI "
   ]
  },
  {
   "cell_type": "code",
   "execution_count": 34,
   "id": "838e6669",
   "metadata": {
    "ExecuteTime": {
     "end_time": "2022-11-17T07:04:02.639051Z",
     "start_time": "2022-11-17T07:04:02.620574Z"
    },
    "hidden": true
   },
   "outputs": [
    {
     "data": {
      "text/plain": [
       "[25, 4, 16, 17, 20]"
      ]
     },
     "execution_count": 34,
     "metadata": {},
     "output_type": "execute_result"
    }
   ],
   "source": [
    "AI = Listele[0:5]\n",
    "AI"
   ]
  },
  {
   "cell_type": "markdown",
   "id": "27bf1df9",
   "metadata": {
    "hidden": true
   },
   "source": []
  },
  {
   "cell_type": "markdown",
   "id": "37e50846",
   "metadata": {},
   "source": [
    "### Question 52: \n",
    "Print the type of each element ( Hint: Use for loop )"
   ]
  },
  {
   "cell_type": "code",
   "execution_count": 35,
   "id": "d40f1f0e",
   "metadata": {
    "ExecuteTime": {
     "end_time": "2022-11-17T07:05:19.510667Z",
     "start_time": "2022-11-17T07:05:19.499225Z"
    }
   },
   "outputs": [
    {
     "name": "stdout",
     "output_type": "stream",
     "text": [
      "<class 'int'>\n",
      "<class 'int'>\n",
      "<class 'int'>\n",
      "<class 'int'>\n",
      "<class 'int'>\n",
      "<class 'int'>\n",
      "<class 'int'>\n",
      "<class 'int'>\n",
      "<class 'int'>\n"
     ]
    }
   ],
   "source": [
    "for i in Listele :\n",
    "    print(type(1))"
   ]
  },
  {
   "cell_type": "markdown",
   "id": "d3597880",
   "metadata": {},
   "source": []
  },
  {
   "cell_type": "markdown",
   "id": "9d5e2d6b",
   "metadata": {
    "heading_collapsed": true
   },
   "source": [
    "### Question 53: \n",
    "Suppose you have a file called new data.csv , write the python code to read this data "
   ]
  },
  {
   "cell_type": "code",
   "execution_count": null,
   "id": "c5c63573",
   "metadata": {
    "ExecuteTime": {
     "end_time": "2022-11-17T07:12:05.653596Z",
     "start_time": "2022-11-17T07:12:05.472767Z"
    },
    "hidden": true
   },
   "outputs": [],
   "source": [
    "import pandas as pd\n",
    "newdatte = pd.read_csv(\"new date.csv\")"
   ]
  },
  {
   "cell_type": "markdown",
   "id": "8e8d9a78",
   "metadata": {
    "hidden": true
   },
   "source": []
  },
  {
   "cell_type": "markdown",
   "id": "078cd393",
   "metadata": {},
   "source": [
    "### Question 54: \n",
    "print its columns "
   ]
  },
  {
   "cell_type": "code",
   "execution_count": null,
   "id": "e8245bcb",
   "metadata": {},
   "outputs": [],
   "source": [
    "newdatte.columns"
   ]
  },
  {
   "cell_type": "markdown",
   "id": "ccd82ce2",
   "metadata": {},
   "source": []
  },
  {
   "cell_type": "markdown",
   "id": "f8403a85",
   "metadata": {
    "heading_collapsed": true
   },
   "source": [
    "### Question 55: \n",
    "What are the packages used for web scrapping? "
   ]
  },
  {
   "cell_type": "code",
   "execution_count": null,
   "id": "a4ee4b06",
   "metadata": {
    "hidden": true
   },
   "outputs": [],
   "source": []
  },
  {
   "cell_type": "markdown",
   "id": "391a035a",
   "metadata": {
    "hidden": true
   },
   "source": [
    "### 1- Beautifulsoup \n",
    "### 2- Requests \n",
    "### 3- Selunim\n",
    "### 4- Cron jobs"
   ]
  },
  {
   "cell_type": "markdown",
   "id": "282338c7",
   "metadata": {
    "heading_collapsed": true
   },
   "source": [
    "### Question 56: \n",
    "What are the types of learning ?"
   ]
  },
  {
   "cell_type": "code",
   "execution_count": null,
   "id": "8837ce21",
   "metadata": {
    "hidden": true
   },
   "outputs": [],
   "source": []
  },
  {
   "cell_type": "markdown",
   "id": "98214c9e",
   "metadata": {
    "hidden": true
   },
   "source": [
    "### superviced  and unsuperviced"
   ]
  },
  {
   "cell_type": "markdown",
   "id": "73e5ac27",
   "metadata": {
    "heading_collapsed": true
   },
   "source": [
    "### Question 57: \n",
    "What are the types of problems AI Can solve ? "
   ]
  },
  {
   "cell_type": "code",
   "execution_count": null,
   "id": "cd9426c4",
   "metadata": {
    "hidden": true
   },
   "outputs": [],
   "source": []
  },
  {
   "cell_type": "markdown",
   "id": "986332a0",
   "metadata": {
    "hidden": true
   },
   "source": [
    "### Artificial intellgence can \n",
    "### 1- find patterns, trends,associations\n",
    "### 2- execute plans\n",
    "### 3- discover inefficiencies\n",
    "### 4- Learn and becom better\n",
    "### 5- inform fact - based decisions\n",
    "### 6- predict future outcomes based on historical trends"
   ]
  },
  {
   "cell_type": "markdown",
   "id": "b7c14eff",
   "metadata": {
    "ExecuteTime": {
     "end_time": "2021-06-28T09:20:22.730948Z",
     "start_time": "2021-06-28T09:20:22.715963Z"
    },
    "heading_collapsed": true
   },
   "source": [
    "### Question 58:\n",
    "What is Data Augmentation?"
   ]
  },
  {
   "cell_type": "code",
   "execution_count": null,
   "id": "deea40cd",
   "metadata": {
    "hidden": true
   },
   "outputs": [],
   "source": []
  },
  {
   "cell_type": "markdown",
   "id": "feba92a5",
   "metadata": {
    "hidden": true
   },
   "source": [
    "#### Data Augmentation is a technique that can be used to artificially expand the size of a training set by creating modified data from the existing one. It is a good practice to use DA if you want to prevent overfitting, or the initial dataset is too small to train on, or even if you want to squeeze better performance from your model."
   ]
  },
  {
   "cell_type": "markdown",
   "id": "071e6ccc",
   "metadata": {
    "heading_collapsed": true
   },
   "source": [
    "### Question 59  (Bonus) : \n",
    "What are the types of medical image files?  "
   ]
  },
  {
   "cell_type": "code",
   "execution_count": null,
   "id": "8863b69d",
   "metadata": {
    "hidden": true
   },
   "outputs": [],
   "source": []
  },
  {
   "cell_type": "markdown",
   "id": "b3b8de34",
   "metadata": {
    "hidden": true
   },
   "source": [
    "#### Analyze, Neuroimaging Informatics Technology Initiative (Nifti), Minc, and Digital Imaging and Communications in Medicine (Dicom)"
   ]
  },
  {
   "cell_type": "markdown",
   "id": "63bb465f",
   "metadata": {},
   "source": [
    "### Question 60: ( Bonus ) \n",
    "What are the 7Vs of Big Data? "
   ]
  },
  {
   "cell_type": "markdown",
   "id": "4ce8c875",
   "metadata": {},
   "source": [
    "#### volume, variety, varacity, value, visualization, variability, velocity."
   ]
  },
  {
   "cell_type": "markdown",
   "id": "fc343b99",
   "metadata": {},
   "source": [
    "### Question 61:\n",
    "What is Dimensionality reduction"
   ]
  },
  {
   "cell_type": "markdown",
   "id": "1b5de843",
   "metadata": {},
   "source": [
    "#### In machine learning classification problems, there are often too many factors on the basis of which the final classification is done. These factors are basically variables called features. The higher the number of features, the harder it gets to visualize the training set and then work on it. Sometimes, most of these features are correlated, and hence redundant. This is where dimensionality reduction algorithms come into play. Dimensionality reduction is the process of reducing the number of random variables under consideration, by obtaining a set of principal variables. It can be divided into feature selection and feature extraction."
   ]
  },
  {
   "cell_type": "markdown",
   "id": "eb206638",
   "metadata": {},
   "source": [
    "### Question 62:\n",
    "What are the main features of Time Seires Analysis"
   ]
  },
  {
   "cell_type": "markdown",
   "id": "6c538b9b",
   "metadata": {
    "ExecuteTime": {
     "end_time": "2022-03-05T19:33:26.627541Z",
     "start_time": "2022-03-05T19:33:26.602542Z"
    }
   },
   "source": [
    "### When plotted, many time series exhibit one or more of the following features:\n",
    "\n",
    "#### Trends.\n",
    "\n",
    "#### Seasonal and nonseasonal cycles.\n",
    "\n",
    "#### Pulses and steps.\n",
    "\n",
    "#### Outliers."
   ]
  },
  {
   "cell_type": "markdown",
   "id": "140948c5",
   "metadata": {},
   "source": [
    "### Question 62:\n",
    "you're given X,y and  \n",
    "x = [1,3,4,5,6,7,9]\n",
    "y =[1,3,2,2,3,7,9]\n",
    "z = [\"A\" , \"B\",  \"C\" , \"D\", \"E\" , \"F\" , \"G\"] \n",
    "\n",
    "create: \n",
    "1. plot chart \n",
    "2. bar chart\n",
    "3. pie chart\n"
   ]
  },
  {
   "cell_type": "code",
   "execution_count": 49,
   "id": "907ebe38",
   "metadata": {
    "ExecuteTime": {
     "end_time": "2022-11-17T08:07:20.452448Z",
     "start_time": "2022-11-17T08:07:20.431519Z"
    }
   },
   "outputs": [
    {
     "ename": "SyntaxError",
     "evalue": "invalid non-printable character U+00A0 (3010849420.py, line 10)",
     "output_type": "error",
     "traceback": [
      "\u001b[1;36m  Input \u001b[1;32mIn [49]\u001b[1;36m\u001b[0m\n\u001b[1;33m    plt.plot(x , z )\u001b[0m\n\u001b[1;37m              ^\u001b[0m\n\u001b[1;31mSyntaxError\u001b[0m\u001b[1;31m:\u001b[0m invalid non-printable character U+00A0\n"
     ]
    }
   ],
   "source": [
    "import numpy as np\n",
    "import pandas as pd \n",
    "import matplotlib.pyplot as plt\n",
    "\n",
    "x = [1,3,4,5,6,7,9]\n",
    "y =[1,3,2,2,3,7,9]\n",
    "z = [\"A\" , \"B\", \"C\" , \"D\", \"E\" , \"F\" , \"G\"]\n",
    "\n",
    "plt.plot(x , y )\n",
    "plt.plot(x , z )\n",
    "\n",
    "xpossition = np.arange(len(z)) \n",
    "\n",
    "plt.bar(z,x, width=0.4) \n",
    "plt.bar(xpos-0.4,y, width=0.4)\n",
    "plt.pie(x,labels=z)\n",
    "plt.pie(y,labels=z)\n",
    "\n",
    "\n",
    "\n"
   ]
  },
  {
   "cell_type": "markdown",
   "id": "fa480f3c",
   "metadata": {},
   "source": [
    "### Question 63: \n",
    "Read image from your directory and display it here "
   ]
  },
  {
   "cell_type": "code",
   "execution_count": 54,
   "id": "61be9558",
   "metadata": {
    "ExecuteTime": {
     "end_time": "2022-11-17T08:15:58.164907Z",
     "start_time": "2022-11-17T08:15:58.159364Z"
    }
   },
   "outputs": [
    {
     "ename": "SyntaxError",
     "evalue": "EOL while scanning string literal (1150820539.py, line 4)",
     "output_type": "error",
     "traceback": [
      "\u001b[1;36m  Input \u001b[1;32mIn [54]\u001b[1;36m\u001b[0m\n\u001b[1;33m    mirhan = Image('D:\\')\u001b[0m\n\u001b[1;37m                         ^\u001b[0m\n\u001b[1;31mSyntaxError\u001b[0m\u001b[1;31m:\u001b[0m EOL while scanning string literal\n"
     ]
    }
   ],
   "source": [
    "import cv2\n",
    "from IPython.display import Image\n",
    "\n",
    "mirhan = Image('D:\\')\n",
    "\n",
    "mirhann = cv2.imread('D:\\')"
   ]
  },
  {
   "cell_type": "markdown",
   "id": "f32912df",
   "metadata": {},
   "source": [
    "### Question 64:\n",
    "Explain Gradient Descent ( with Details ) "
   ]
  },
  {
   "cell_type": "markdown",
   "id": "0baa3d0d",
   "metadata": {},
   "source": [
    "#### Gradient descent (GD) is an iterative first-order optimisation algorithm used to find a local minimum/maximum of a given function. This method is commonly used in machine learning (ML) and deep learning(DL) to minimise a cost/loss function (e.g. in a linear regression)."
   ]
  },
  {
   "cell_type": "markdown",
   "id": "de6c7409",
   "metadata": {},
   "source": [
    "### Question 65:\n",
    "Create pandas dataframe as input from users\n",
    "\n",
    "name, \n",
    "age,\n",
    "id, \n",
    "gender,\n",
    "email, \n",
    "phone number, \n",
    "city,\n",
    "\n",
    "then \n",
    "\n",
    "a. group by city                       \n",
    "b. which city has the most students              \n",
    "c. get all the mails ending with @gmail.com\n",
    "d. get all vodafone phone numbers             \n",
    "e. get the average of ages for each gender               \n",
    "f. plot the relation between number of males to females           \n",
    "g. plot the relation between age and gender             "
   ]
  },
  {
   "cell_type": "code",
   "execution_count": null,
   "id": "c0aab540",
   "metadata": {
    "ExecuteTime": {
     "start_time": "2022-11-17T08:20:00.625Z"
    }
   },
   "outputs": [],
   "source": [
    "columns = []\n",
    "data = dict()\n",
    "\n",
    "num = int(input(\"Please enter the number of columns\"))\n",
    "while(num > 0):\n",
    "    columns.append(input(\"Please enter the column name: \"))\n",
    "    num -=1\n",
    "\n",
    "for i in columns:\n",
    "    data[i] = []\n",
    "\n",
    "rows = int(input(\"please enter the number of rows: \"))\n",
    "while(rows > 0):\n",
    "    for i in data:\n",
    "        value = input(f\"please enter the value of {i}: \")\n",
    "        data[i].append(value)\n",
    "\n",
    "    rows-=1\n",
    "dataframe = pd.DataFrame(data)\n",
    "dataframe"
   ]
  },
  {
   "attachments": {
    "images.jpg": {
     "image/jpeg": "[encoded data removed]"
    }
   },
   "cell_type": "markdown",
   "id": "2c124077",
   "metadata": {},
   "source": [
    "### Best Wishes \n",
    "![images.jpg](attachment:images.jpg)"
   ]
  },
  {
   "cell_type": "code",
   "execution_count": null,
   "id": "61269543",
   "metadata": {},
   "outputs": [],
   "source": []
  }
 ],
 "metadata": {
  "kernelspec": {
   "display_name": "Python 3 (ipykernel)",
   "language": "python",
   "name": "python3"
  },
  "language_info": {
   "codemirror_mode": {
    "name": "ipython",
    "version": 3
   },
   "file_extension": ".py",
   "mimetype": "text/x-python",
   "name": "python",
   "nbconvert_exporter": "python",
   "pygments_lexer": "ipython3",
   "version": "3.9.12"
  },
  "toc": {
   "base_numbering": 1,
   "nav_menu": {},
   "number_sections": false,
   "sideBar": true,
   "skip_h1_title": false,
   "title_cell": "Table of Contents",
   "title_sidebar": "Contents",
   "toc_cell": false,
   "toc_position": {
    "height": "calc(100% - 180px)",
    "left": "10px",
    "top": "150px",
    "width": "165px"
   },
   "toc_section_display": true,
   "toc_window_display": false
  },
  "varInspector": {
   "cols": {
    "lenName": 16,
    "lenType": 16,
    "lenVar": 40
   },
   "kernels_config": {
    "python": {
     "delete_cmd_postfix": "",
     "delete_cmd_prefix": "del ",
     "library": "var_list.py",
     "varRefreshCmd": "print(var_dic_list())"
    },
    "r": {
     "delete_cmd_postfix": ") ",
     "delete_cmd_prefix": "rm(",
     "library": "var_list.r",
     "varRefreshCmd": "cat(var_dic_list()) "
    }
   },
   "types_to_exclude": [
    "module",
    "function",
    "builtin_function_or_method",
    "instance",
    "_Feature"
   ],
   "window_display": false
  }
 },
 "nbformat": 4,
 "nbformat_minor": 5
}
